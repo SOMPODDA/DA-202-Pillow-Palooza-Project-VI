{
 "cells": [
  {
   "cell_type": "code",
   "execution_count": 2,
   "id": "c55f1937",
   "metadata": {},
   "outputs": [],
   "source": [
    "# We've to load multiple packages to do the analysis"
   ]
  },
  {
   "cell_type": "code",
   "execution_count": 3,
   "id": "8d500b6f",
   "metadata": {},
   "outputs": [],
   "source": [
    "import numpy as np\n",
    "import pandas as pd\n",
    "import datetime as dt\n",
    "import math\n",
    "import matplotlib.pyplot as plt\n",
    "import seaborn as sns"
   ]
  },
  {
   "cell_type": "code",
   "execution_count": 4,
   "id": "7e19e16e",
   "metadata": {},
   "outputs": [],
   "source": [
    "# Step 1. Importing the data"
   ]
  },
  {
   "cell_type": "code",
   "execution_count": 5,
   "id": "751ea282",
   "metadata": {},
   "outputs": [],
   "source": [
    "# Load airbnb_price.csv in prices\n",
    "\n",
    "prices = pd.read_csv(\"prices.csv\")"
   ]
  },
  {
   "cell_type": "code",
   "execution_count": 6,
   "id": "9f7553a2",
   "metadata": {},
   "outputs": [],
   "source": [
    "# Load airbnb_room_type.xlsx in xls\n",
    "\n",
    "xls = pd.ExcelFile(\"room_types.xlsx\")"
   ]
  },
  {
   "cell_type": "code",
   "execution_count": 7,
   "id": "1d38138a",
   "metadata": {},
   "outputs": [],
   "source": [
    "# Parse the first sheet from xls, room_types\n",
    "\n",
    "room_types = xls.parse(0)"
   ]
  },
  {
   "cell_type": "code",
   "execution_count": 8,
   "id": "cca4e2ed",
   "metadata": {},
   "outputs": [],
   "source": [
    "# Load airbnb_last_review.tsv, reviews\n",
    "\n",
    "reviews = pd.read_csv(\"reviews.tsv\",sep = \"\\t\")"
   ]
  },
  {
   "cell_type": "code",
   "execution_count": 9,
   "id": "6dd3c0d5",
   "metadata": {},
   "outputs": [],
   "source": [
    "# Display the first few rows"
   ]
  },
  {
   "cell_type": "code",
   "execution_count": 10,
   "id": "d30efa34",
   "metadata": {
    "scrolled": true
   },
   "outputs": [
    {
     "data": {
      "text/html": [
       "<div>\n",
       "<style scoped>\n",
       "    .dataframe tbody tr th:only-of-type {\n",
       "        vertical-align: middle;\n",
       "    }\n",
       "\n",
       "    .dataframe tbody tr th {\n",
       "        vertical-align: top;\n",
       "    }\n",
       "\n",
       "    .dataframe thead th {\n",
       "        text-align: right;\n",
       "    }\n",
       "</style>\n",
       "<table border=\"1\" class=\"dataframe\">\n",
       "  <thead>\n",
       "    <tr style=\"text-align: right;\">\n",
       "      <th></th>\n",
       "      <th>listing_id</th>\n",
       "      <th>price</th>\n",
       "      <th>nbhood_full</th>\n",
       "    </tr>\n",
       "  </thead>\n",
       "  <tbody>\n",
       "    <tr>\n",
       "      <th>0</th>\n",
       "      <td>2595</td>\n",
       "      <td>225 dollars</td>\n",
       "      <td>Manhattan, Midtown</td>\n",
       "    </tr>\n",
       "    <tr>\n",
       "      <th>1</th>\n",
       "      <td>3831</td>\n",
       "      <td>89 dollars</td>\n",
       "      <td>Brooklyn, Clinton Hill</td>\n",
       "    </tr>\n",
       "    <tr>\n",
       "      <th>2</th>\n",
       "      <td>5099</td>\n",
       "      <td>200 dollars</td>\n",
       "      <td>Manhattan, Murray Hill</td>\n",
       "    </tr>\n",
       "    <tr>\n",
       "      <th>3</th>\n",
       "      <td>5178</td>\n",
       "      <td>79 dollars</td>\n",
       "      <td>Manhattan, Hell's Kitchen</td>\n",
       "    </tr>\n",
       "    <tr>\n",
       "      <th>4</th>\n",
       "      <td>5238</td>\n",
       "      <td>150 dollars</td>\n",
       "      <td>Manhattan, Chinatown</td>\n",
       "    </tr>\n",
       "  </tbody>\n",
       "</table>\n",
       "</div>"
      ],
      "text/plain": [
       "   listing_id        price                nbhood_full\n",
       "0        2595  225 dollars         Manhattan, Midtown\n",
       "1        3831   89 dollars     Brooklyn, Clinton Hill\n",
       "2        5099  200 dollars     Manhattan, Murray Hill\n",
       "3        5178   79 dollars  Manhattan, Hell's Kitchen\n",
       "4        5238  150 dollars       Manhattan, Chinatown"
      ]
     },
     "execution_count": 10,
     "metadata": {},
     "output_type": "execute_result"
    }
   ],
   "source": [
    "prices.head()"
   ]
  },
  {
   "cell_type": "code",
   "execution_count": 11,
   "id": "32b984ee",
   "metadata": {},
   "outputs": [
    {
     "data": {
      "text/html": [
       "<div>\n",
       "<style scoped>\n",
       "    .dataframe tbody tr th:only-of-type {\n",
       "        vertical-align: middle;\n",
       "    }\n",
       "\n",
       "    .dataframe tbody tr th {\n",
       "        vertical-align: top;\n",
       "    }\n",
       "\n",
       "    .dataframe thead th {\n",
       "        text-align: right;\n",
       "    }\n",
       "</style>\n",
       "<table border=\"1\" class=\"dataframe\">\n",
       "  <thead>\n",
       "    <tr style=\"text-align: right;\">\n",
       "      <th></th>\n",
       "      <th>listing_id</th>\n",
       "      <th>host_name</th>\n",
       "      <th>last_review</th>\n",
       "    </tr>\n",
       "  </thead>\n",
       "  <tbody>\n",
       "    <tr>\n",
       "      <th>0</th>\n",
       "      <td>2595</td>\n",
       "      <td>Jennifer</td>\n",
       "      <td>May 21 2019</td>\n",
       "    </tr>\n",
       "    <tr>\n",
       "      <th>1</th>\n",
       "      <td>3831</td>\n",
       "      <td>LisaRoxanne</td>\n",
       "      <td>July 05 2019</td>\n",
       "    </tr>\n",
       "    <tr>\n",
       "      <th>2</th>\n",
       "      <td>5099</td>\n",
       "      <td>Chris</td>\n",
       "      <td>June 22 2019</td>\n",
       "    </tr>\n",
       "    <tr>\n",
       "      <th>3</th>\n",
       "      <td>5178</td>\n",
       "      <td>Shunichi</td>\n",
       "      <td>June 24 2019</td>\n",
       "    </tr>\n",
       "    <tr>\n",
       "      <th>4</th>\n",
       "      <td>5238</td>\n",
       "      <td>Ben</td>\n",
       "      <td>June 09 2019</td>\n",
       "    </tr>\n",
       "  </tbody>\n",
       "</table>\n",
       "</div>"
      ],
      "text/plain": [
       "   listing_id    host_name   last_review\n",
       "0        2595     Jennifer   May 21 2019\n",
       "1        3831  LisaRoxanne  July 05 2019\n",
       "2        5099        Chris  June 22 2019\n",
       "3        5178     Shunichi  June 24 2019\n",
       "4        5238          Ben  June 09 2019"
      ]
     },
     "execution_count": 11,
     "metadata": {},
     "output_type": "execute_result"
    }
   ],
   "source": [
    "reviews.head()"
   ]
  },
  {
   "cell_type": "code",
   "execution_count": 12,
   "id": "915560fb",
   "metadata": {
    "scrolled": true
   },
   "outputs": [
    {
     "data": {
      "text/html": [
       "<div>\n",
       "<style scoped>\n",
       "    .dataframe tbody tr th:only-of-type {\n",
       "        vertical-align: middle;\n",
       "    }\n",
       "\n",
       "    .dataframe tbody tr th {\n",
       "        vertical-align: top;\n",
       "    }\n",
       "\n",
       "    .dataframe thead th {\n",
       "        text-align: right;\n",
       "    }\n",
       "</style>\n",
       "<table border=\"1\" class=\"dataframe\">\n",
       "  <thead>\n",
       "    <tr style=\"text-align: right;\">\n",
       "      <th></th>\n",
       "      <th>listing_id</th>\n",
       "      <th>description</th>\n",
       "      <th>room_type</th>\n",
       "    </tr>\n",
       "  </thead>\n",
       "  <tbody>\n",
       "    <tr>\n",
       "      <th>0</th>\n",
       "      <td>2595</td>\n",
       "      <td>Skylit Midtown Castle</td>\n",
       "      <td>Entire home/apt</td>\n",
       "    </tr>\n",
       "    <tr>\n",
       "      <th>1</th>\n",
       "      <td>3831</td>\n",
       "      <td>Cozy Entire Floor of Brownstone</td>\n",
       "      <td>Entire home/apt</td>\n",
       "    </tr>\n",
       "    <tr>\n",
       "      <th>2</th>\n",
       "      <td>5099</td>\n",
       "      <td>Large Cozy 1 BR Apartment In Midtown East</td>\n",
       "      <td>Entire home/apt</td>\n",
       "    </tr>\n",
       "    <tr>\n",
       "      <th>3</th>\n",
       "      <td>5178</td>\n",
       "      <td>Large Furnished Room Near B'way</td>\n",
       "      <td>private room</td>\n",
       "    </tr>\n",
       "    <tr>\n",
       "      <th>4</th>\n",
       "      <td>5238</td>\n",
       "      <td>Cute &amp; Cozy Lower East Side 1 bdrm</td>\n",
       "      <td>Entire home/apt</td>\n",
       "    </tr>\n",
       "  </tbody>\n",
       "</table>\n",
       "</div>"
      ],
      "text/plain": [
       "   listing_id                                description        room_type\n",
       "0        2595                      Skylit Midtown Castle  Entire home/apt\n",
       "1        3831            Cozy Entire Floor of Brownstone  Entire home/apt\n",
       "2        5099  Large Cozy 1 BR Apartment In Midtown East  Entire home/apt\n",
       "3        5178            Large Furnished Room Near B'way     private room\n",
       "4        5238         Cute & Cozy Lower East Side 1 bdrm  Entire home/apt"
      ]
     },
     "execution_count": 12,
     "metadata": {},
     "output_type": "execute_result"
    }
   ],
   "source": [
    "room_types.head()"
   ]
  },
  {
   "cell_type": "code",
   "execution_count": null,
   "id": "b6498d73",
   "metadata": {},
   "outputs": [],
   "source": []
  },
  {
   "cell_type": "code",
   "execution_count": 13,
   "id": "24b5c1c2",
   "metadata": {},
   "outputs": [],
   "source": [
    "# Check the dimensions of the dataset"
   ]
  },
  {
   "cell_type": "code",
   "execution_count": 14,
   "id": "91027786",
   "metadata": {},
   "outputs": [
    {
     "data": {
      "text/plain": [
       "(25209, 3)"
      ]
     },
     "execution_count": 14,
     "metadata": {},
     "output_type": "execute_result"
    }
   ],
   "source": [
    "prices.shape"
   ]
  },
  {
   "cell_type": "code",
   "execution_count": 15,
   "id": "aa401c12",
   "metadata": {},
   "outputs": [
    {
     "data": {
      "text/plain": [
       "(25209, 3)"
      ]
     },
     "execution_count": 15,
     "metadata": {},
     "output_type": "execute_result"
    }
   ],
   "source": [
    "reviews.shape"
   ]
  },
  {
   "cell_type": "code",
   "execution_count": 16,
   "id": "5654c5f4",
   "metadata": {},
   "outputs": [
    {
     "data": {
      "text/plain": [
       "(25209, 3)"
      ]
     },
     "execution_count": 16,
     "metadata": {},
     "output_type": "execute_result"
    }
   ],
   "source": [
    "room_types.shape"
   ]
  },
  {
   "cell_type": "code",
   "execution_count": 17,
   "id": "b5ebd745",
   "metadata": {},
   "outputs": [],
   "source": [
    "# Check the data types of columns"
   ]
  },
  {
   "cell_type": "code",
   "execution_count": 18,
   "id": "7d841efd",
   "metadata": {},
   "outputs": [
    {
     "data": {
      "text/plain": [
       "listing_id      int64\n",
       "price          object\n",
       "nbhood_full    object\n",
       "dtype: object"
      ]
     },
     "execution_count": 18,
     "metadata": {},
     "output_type": "execute_result"
    }
   ],
   "source": [
    "prices.dtypes"
   ]
  },
  {
   "cell_type": "code",
   "execution_count": 19,
   "id": "e749ec00",
   "metadata": {},
   "outputs": [
    {
     "data": {
      "text/plain": [
       "listing_id      int64\n",
       "host_name      object\n",
       "last_review    object\n",
       "dtype: object"
      ]
     },
     "execution_count": 19,
     "metadata": {},
     "output_type": "execute_result"
    }
   ],
   "source": [
    "reviews.dtypes"
   ]
  },
  {
   "cell_type": "code",
   "execution_count": 20,
   "id": "5e9e8734",
   "metadata": {},
   "outputs": [
    {
     "data": {
      "text/plain": [
       "listing_id      int64\n",
       "description    object\n",
       "room_type      object\n",
       "dtype: object"
      ]
     },
     "execution_count": 20,
     "metadata": {},
     "output_type": "execute_result"
    }
   ],
   "source": [
    "room_types.dtypes"
   ]
  },
  {
   "cell_type": "code",
   "execution_count": 21,
   "id": "099ea109",
   "metadata": {},
   "outputs": [],
   "source": [
    "# Get summary statistics"
   ]
  },
  {
   "cell_type": "code",
   "execution_count": 22,
   "id": "dfb0aca1",
   "metadata": {},
   "outputs": [
    {
     "data": {
      "text/html": [
       "<div>\n",
       "<style scoped>\n",
       "    .dataframe tbody tr th:only-of-type {\n",
       "        vertical-align: middle;\n",
       "    }\n",
       "\n",
       "    .dataframe tbody tr th {\n",
       "        vertical-align: top;\n",
       "    }\n",
       "\n",
       "    .dataframe thead th {\n",
       "        text-align: right;\n",
       "    }\n",
       "</style>\n",
       "<table border=\"1\" class=\"dataframe\">\n",
       "  <thead>\n",
       "    <tr style=\"text-align: right;\">\n",
       "      <th></th>\n",
       "      <th>listing_id</th>\n",
       "    </tr>\n",
       "  </thead>\n",
       "  <tbody>\n",
       "    <tr>\n",
       "      <th>count</th>\n",
       "      <td>2.520900e+04</td>\n",
       "    </tr>\n",
       "    <tr>\n",
       "      <th>mean</th>\n",
       "      <td>2.068922e+07</td>\n",
       "    </tr>\n",
       "    <tr>\n",
       "      <th>std</th>\n",
       "      <td>1.102928e+07</td>\n",
       "    </tr>\n",
       "    <tr>\n",
       "      <th>min</th>\n",
       "      <td>2.595000e+03</td>\n",
       "    </tr>\n",
       "    <tr>\n",
       "      <th>25%</th>\n",
       "      <td>1.202273e+07</td>\n",
       "    </tr>\n",
       "    <tr>\n",
       "      <th>50%</th>\n",
       "      <td>2.234391e+07</td>\n",
       "    </tr>\n",
       "    <tr>\n",
       "      <th>75%</th>\n",
       "      <td>3.037669e+07</td>\n",
       "    </tr>\n",
       "    <tr>\n",
       "      <th>max</th>\n",
       "      <td>3.645581e+07</td>\n",
       "    </tr>\n",
       "  </tbody>\n",
       "</table>\n",
       "</div>"
      ],
      "text/plain": [
       "         listing_id\n",
       "count  2.520900e+04\n",
       "mean   2.068922e+07\n",
       "std    1.102928e+07\n",
       "min    2.595000e+03\n",
       "25%    1.202273e+07\n",
       "50%    2.234391e+07\n",
       "75%    3.037669e+07\n",
       "max    3.645581e+07"
      ]
     },
     "execution_count": 22,
     "metadata": {},
     "output_type": "execute_result"
    }
   ],
   "source": [
    "prices.describe()"
   ]
  },
  {
   "cell_type": "code",
   "execution_count": 23,
   "id": "7181a7ab",
   "metadata": {},
   "outputs": [
    {
     "data": {
      "text/html": [
       "<div>\n",
       "<style scoped>\n",
       "    .dataframe tbody tr th:only-of-type {\n",
       "        vertical-align: middle;\n",
       "    }\n",
       "\n",
       "    .dataframe tbody tr th {\n",
       "        vertical-align: top;\n",
       "    }\n",
       "\n",
       "    .dataframe thead th {\n",
       "        text-align: right;\n",
       "    }\n",
       "</style>\n",
       "<table border=\"1\" class=\"dataframe\">\n",
       "  <thead>\n",
       "    <tr style=\"text-align: right;\">\n",
       "      <th></th>\n",
       "      <th>listing_id</th>\n",
       "    </tr>\n",
       "  </thead>\n",
       "  <tbody>\n",
       "    <tr>\n",
       "      <th>count</th>\n",
       "      <td>2.520900e+04</td>\n",
       "    </tr>\n",
       "    <tr>\n",
       "      <th>mean</th>\n",
       "      <td>2.068922e+07</td>\n",
       "    </tr>\n",
       "    <tr>\n",
       "      <th>std</th>\n",
       "      <td>1.102928e+07</td>\n",
       "    </tr>\n",
       "    <tr>\n",
       "      <th>min</th>\n",
       "      <td>2.595000e+03</td>\n",
       "    </tr>\n",
       "    <tr>\n",
       "      <th>25%</th>\n",
       "      <td>1.202273e+07</td>\n",
       "    </tr>\n",
       "    <tr>\n",
       "      <th>50%</th>\n",
       "      <td>2.234391e+07</td>\n",
       "    </tr>\n",
       "    <tr>\n",
       "      <th>75%</th>\n",
       "      <td>3.037669e+07</td>\n",
       "    </tr>\n",
       "    <tr>\n",
       "      <th>max</th>\n",
       "      <td>3.645581e+07</td>\n",
       "    </tr>\n",
       "  </tbody>\n",
       "</table>\n",
       "</div>"
      ],
      "text/plain": [
       "         listing_id\n",
       "count  2.520900e+04\n",
       "mean   2.068922e+07\n",
       "std    1.102928e+07\n",
       "min    2.595000e+03\n",
       "25%    1.202273e+07\n",
       "50%    2.234391e+07\n",
       "75%    3.037669e+07\n",
       "max    3.645581e+07"
      ]
     },
     "execution_count": 23,
     "metadata": {},
     "output_type": "execute_result"
    }
   ],
   "source": [
    "reviews.describe()"
   ]
  },
  {
   "cell_type": "code",
   "execution_count": 24,
   "id": "a2dc1d02",
   "metadata": {
    "scrolled": true
   },
   "outputs": [
    {
     "data": {
      "text/html": [
       "<div>\n",
       "<style scoped>\n",
       "    .dataframe tbody tr th:only-of-type {\n",
       "        vertical-align: middle;\n",
       "    }\n",
       "\n",
       "    .dataframe tbody tr th {\n",
       "        vertical-align: top;\n",
       "    }\n",
       "\n",
       "    .dataframe thead th {\n",
       "        text-align: right;\n",
       "    }\n",
       "</style>\n",
       "<table border=\"1\" class=\"dataframe\">\n",
       "  <thead>\n",
       "    <tr style=\"text-align: right;\">\n",
       "      <th></th>\n",
       "      <th>listing_id</th>\n",
       "    </tr>\n",
       "  </thead>\n",
       "  <tbody>\n",
       "    <tr>\n",
       "      <th>count</th>\n",
       "      <td>2.520900e+04</td>\n",
       "    </tr>\n",
       "    <tr>\n",
       "      <th>mean</th>\n",
       "      <td>2.068922e+07</td>\n",
       "    </tr>\n",
       "    <tr>\n",
       "      <th>std</th>\n",
       "      <td>1.102928e+07</td>\n",
       "    </tr>\n",
       "    <tr>\n",
       "      <th>min</th>\n",
       "      <td>2.595000e+03</td>\n",
       "    </tr>\n",
       "    <tr>\n",
       "      <th>25%</th>\n",
       "      <td>1.202273e+07</td>\n",
       "    </tr>\n",
       "    <tr>\n",
       "      <th>50%</th>\n",
       "      <td>2.234391e+07</td>\n",
       "    </tr>\n",
       "    <tr>\n",
       "      <th>75%</th>\n",
       "      <td>3.037669e+07</td>\n",
       "    </tr>\n",
       "    <tr>\n",
       "      <th>max</th>\n",
       "      <td>3.645581e+07</td>\n",
       "    </tr>\n",
       "  </tbody>\n",
       "</table>\n",
       "</div>"
      ],
      "text/plain": [
       "         listing_id\n",
       "count  2.520900e+04\n",
       "mean   2.068922e+07\n",
       "std    1.102928e+07\n",
       "min    2.595000e+03\n",
       "25%    1.202273e+07\n",
       "50%    2.234391e+07\n",
       "75%    3.037669e+07\n",
       "max    3.645581e+07"
      ]
     },
     "execution_count": 24,
     "metadata": {},
     "output_type": "execute_result"
    }
   ],
   "source": [
    "room_types.describe()"
   ]
  },
  {
   "cell_type": "code",
   "execution_count": 25,
   "id": "f2ddd62c",
   "metadata": {},
   "outputs": [],
   "source": [
    "# Check for missing values"
   ]
  },
  {
   "cell_type": "code",
   "execution_count": 26,
   "id": "62a37ca5",
   "metadata": {},
   "outputs": [
    {
     "data": {
      "text/plain": [
       "listing_id     0\n",
       "price          0\n",
       "nbhood_full    0\n",
       "dtype: int64"
      ]
     },
     "execution_count": 26,
     "metadata": {},
     "output_type": "execute_result"
    }
   ],
   "source": [
    "prices.isnull().sum()"
   ]
  },
  {
   "cell_type": "code",
   "execution_count": 27,
   "id": "e9d72a6e",
   "metadata": {},
   "outputs": [
    {
     "data": {
      "text/plain": [
       "listing_id     0\n",
       "host_name      8\n",
       "last_review    0\n",
       "dtype: int64"
      ]
     },
     "execution_count": 27,
     "metadata": {},
     "output_type": "execute_result"
    }
   ],
   "source": [
    "reviews.isnull().sum()"
   ]
  },
  {
   "cell_type": "code",
   "execution_count": 28,
   "id": "41ef46ae",
   "metadata": {},
   "outputs": [
    {
     "data": {
      "text/plain": [
       "listing_id      0\n",
       "description    10\n",
       "room_type       0\n",
       "dtype: int64"
      ]
     },
     "execution_count": 28,
     "metadata": {},
     "output_type": "execute_result"
    }
   ],
   "source": [
    "room_types.isnull().sum()"
   ]
  },
  {
   "cell_type": "code",
   "execution_count": 29,
   "id": "f67d24a9",
   "metadata": {},
   "outputs": [],
   "source": [
    "# Step 2. Cleaning the price column"
   ]
  },
  {
   "cell_type": "code",
   "execution_count": 30,
   "id": "6b84cbce",
   "metadata": {},
   "outputs": [],
   "source": [
    "# Remove whitespace and string characters from prices column\n",
    "\n",
    "prices[\"price\"] = prices[\"price\"].str.replace(\" dollars\", \"\")"
   ]
  },
  {
   "cell_type": "code",
   "execution_count": 31,
   "id": "799b44f6",
   "metadata": {},
   "outputs": [],
   "source": [
    "# Convert prices column to numeric datatype\n",
    "\n",
    "prices[\"price\"] = pd.to_numeric(prices[\"price\"])"
   ]
  },
  {
   "cell_type": "code",
   "execution_count": null,
   "id": "35419e3d",
   "metadata": {},
   "outputs": [],
   "source": []
  },
  {
   "cell_type": "code",
   "execution_count": 32,
   "id": "54e587e9",
   "metadata": {},
   "outputs": [],
   "source": [
    "# Step 3. Calculating average price"
   ]
  },
  {
   "cell_type": "code",
   "execution_count": 33,
   "id": "2f147a4a",
   "metadata": {
    "scrolled": true
   },
   "outputs": [
    {
     "data": {
      "text/html": [
       "<div>\n",
       "<style scoped>\n",
       "    .dataframe tbody tr th:only-of-type {\n",
       "        vertical-align: middle;\n",
       "    }\n",
       "\n",
       "    .dataframe tbody tr th {\n",
       "        vertical-align: top;\n",
       "    }\n",
       "\n",
       "    .dataframe thead th {\n",
       "        text-align: right;\n",
       "    }\n",
       "</style>\n",
       "<table border=\"1\" class=\"dataframe\">\n",
       "  <thead>\n",
       "    <tr style=\"text-align: right;\">\n",
       "      <th></th>\n",
       "      <th>listing_id</th>\n",
       "      <th>price</th>\n",
       "    </tr>\n",
       "  </thead>\n",
       "  <tbody>\n",
       "    <tr>\n",
       "      <th>count</th>\n",
       "      <td>2.520900e+04</td>\n",
       "      <td>25209.000000</td>\n",
       "    </tr>\n",
       "    <tr>\n",
       "      <th>mean</th>\n",
       "      <td>2.068922e+07</td>\n",
       "      <td>141.777936</td>\n",
       "    </tr>\n",
       "    <tr>\n",
       "      <th>std</th>\n",
       "      <td>1.102928e+07</td>\n",
       "      <td>147.349137</td>\n",
       "    </tr>\n",
       "    <tr>\n",
       "      <th>min</th>\n",
       "      <td>2.595000e+03</td>\n",
       "      <td>0.000000</td>\n",
       "    </tr>\n",
       "    <tr>\n",
       "      <th>25%</th>\n",
       "      <td>1.202273e+07</td>\n",
       "      <td>69.000000</td>\n",
       "    </tr>\n",
       "    <tr>\n",
       "      <th>50%</th>\n",
       "      <td>2.234391e+07</td>\n",
       "      <td>105.000000</td>\n",
       "    </tr>\n",
       "    <tr>\n",
       "      <th>75%</th>\n",
       "      <td>3.037669e+07</td>\n",
       "      <td>175.000000</td>\n",
       "    </tr>\n",
       "    <tr>\n",
       "      <th>max</th>\n",
       "      <td>3.645581e+07</td>\n",
       "      <td>7500.000000</td>\n",
       "    </tr>\n",
       "  </tbody>\n",
       "</table>\n",
       "</div>"
      ],
      "text/plain": [
       "         listing_id         price\n",
       "count  2.520900e+04  25209.000000\n",
       "mean   2.068922e+07    141.777936\n",
       "std    1.102928e+07    147.349137\n",
       "min    2.595000e+03      0.000000\n",
       "25%    1.202273e+07     69.000000\n",
       "50%    2.234391e+07    105.000000\n",
       "75%    3.037669e+07    175.000000\n",
       "max    3.645581e+07   7500.000000"
      ]
     },
     "execution_count": 33,
     "metadata": {},
     "output_type": "execute_result"
    }
   ],
   "source": [
    "prices.describe()"
   ]
  },
  {
   "cell_type": "code",
   "execution_count": 34,
   "id": "090f021d",
   "metadata": {},
   "outputs": [],
   "source": [
    "# To Remove Outliers: Calculate the first quartile (Q1) and third quartile (Q3)\n",
    "\n",
    "Q1 = prices[\"price\"].quantile(0.25)\n",
    "Q3 = prices[\"price\"].quantile(0.75)"
   ]
  },
  {
   "cell_type": "code",
   "execution_count": 35,
   "id": "64f45860",
   "metadata": {},
   "outputs": [],
   "source": [
    "# Calculate the interquartile range (IQR)\n",
    "\n",
    "IQR = Q3 - Q1"
   ]
  },
  {
   "cell_type": "code",
   "execution_count": 36,
   "id": "dbb16dbe",
   "metadata": {},
   "outputs": [],
   "source": [
    "# Define the upper and lower bounds to identify outliers\n",
    "\n",
    "lower_bound = Q1 - 1.5 * IQR\n",
    "upper_bound = Q3 + 1.5 * IQR"
   ]
  },
  {
   "cell_type": "code",
   "execution_count": 37,
   "id": "3911a5b9",
   "metadata": {},
   "outputs": [],
   "source": [
    "# Filter the DataFrame to remove outliers\n",
    "\n",
    "filtered_prices = prices[(prices[\"price\"] >= lower_bound) & (prices[\"price\"] <= upper_bound)]"
   ]
  },
  {
   "cell_type": "code",
   "execution_count": 38,
   "id": "abdde9a4",
   "metadata": {},
   "outputs": [
    {
     "name": "stdout",
     "output_type": "stream",
     "text": [
      "   listing_id  price                nbhood_full\n",
      "0        2595    225         Manhattan, Midtown\n",
      "1        3831     89     Brooklyn, Clinton Hill\n",
      "2        5099    200     Manhattan, Murray Hill\n",
      "3        5178     79  Manhattan, Hell's Kitchen\n",
      "4        5238    150       Manhattan, Chinatown\n"
     ]
    }
   ],
   "source": [
    "#  Resulting DataFrame after removing the outliers\n",
    "\n",
    "print(filtered_prices.head())  "
   ]
  },
  {
   "cell_type": "code",
   "execution_count": 39,
   "id": "5107117c",
   "metadata": {},
   "outputs": [],
   "source": [
    "# Plot a graph of filtered prices"
   ]
  },
  {
   "cell_type": "code",
   "execution_count": 40,
   "id": "733fd1f1",
   "metadata": {},
   "outputs": [
    {
     "data": {
      "image/png": "[encoded data removed]",
      "text/plain": [
       "<Figure size 720x432 with 1 Axes>"
      ]
     },
     "metadata": {
      "needs_background": "light"
     },
     "output_type": "display_data"
    }
   ],
   "source": [
    "import matplotlib.pyplot as plt\n",
    "import seaborn as sns\n",
    "\n",
    "# Select the top 5 listings\n",
    "top_listings = filtered_prices.head(5)\n",
    "\n",
    "# Define a color blindness-friendly color palette\n",
    "colors = sns.color_palette('colorblind')\n",
    "\n",
    "# Create a bar plot\n",
    "plt.figure(figsize=(10, 6))\n",
    "plt.bar(top_listings['nbhood_full'], top_listings['price'], color=colors)\n",
    "\n",
    "# Add labels to each bar\n",
    "for i, price in enumerate(top_listings['price']):\n",
    "    plt.text(i, price + 5, str(price), ha='center', color='black')\n",
    "\n",
    "# Customize plot\n",
    "plt.title('Top 5 Prices by Neighborhood')\n",
    "plt.xlabel('Neighborhood')\n",
    "plt.ylabel('Price')\n",
    "\n",
    "# Rotate x-axis labels for better visibility\n",
    "plt.xticks(rotation=45)\n",
    "\n",
    "# Display the plot\n",
    "plt.show()\n"
   ]
  },
  {
   "cell_type": "code",
   "execution_count": 41,
   "id": "302880b0",
   "metadata": {},
   "outputs": [
    {
     "data": {
      "image/png": "[encoded data removed]",
      "text/plain": [
       "<Figure size 720x432 with 1 Axes>"
      ]
     },
     "metadata": {
      "needs_background": "light"
     },
     "output_type": "display_data"
    }
   ],
   "source": [
    "# Set color palette for color-blind friendly colors\n",
    "colors = sns.color_palette('colorblind')\n",
    "\n",
    "# Plot histogram\n",
    "plt.figure(figsize=(10, 6))\n",
    "plt.hist(filtered_prices[\"price\"], bins=30, edgecolor='black', color=colors[0])\n",
    "\n",
    "# Add values to the histogram bars\n",
    "counts, bins, _ = plt.hist(filtered_prices[\"price\"], bins=30, edgecolor='black', color=colors[9])\n",
    "for count, bin in zip(counts, bins):\n",
    "    if count > 0:\n",
    "        plt.text(bin, count, str(int(count)), ha='center', va='bottom', color='green')\n",
    "\n",
    "# Customize plot\n",
    "plt.title('Distribution of Prices')\n",
    "plt.xlabel('Price')\n",
    "plt.ylabel('Frequency')\n",
    "\n",
    "plt.show()\n",
    "\n"
   ]
  },
  {
   "cell_type": "code",
   "execution_count": null,
   "id": "607daae3",
   "metadata": {},
   "outputs": [],
   "source": []
  },
  {
   "cell_type": "code",
   "execution_count": 42,
   "id": "a2a284b5",
   "metadata": {},
   "outputs": [],
   "source": [
    "# Subset prices for listings costing $0, free_listings\n",
    "\n",
    "free_listings = prices[\"price\"] == 0"
   ]
  },
  {
   "cell_type": "code",
   "execution_count": 43,
   "id": "d81531f0",
   "metadata": {},
   "outputs": [],
   "source": [
    "# Update prices by removing all free listings from prices\n",
    "\n",
    "prices = prices.loc[~free_listings]"
   ]
  },
  {
   "cell_type": "code",
   "execution_count": 44,
   "id": "ec06a3f8",
   "metadata": {},
   "outputs": [],
   "source": [
    "# Calculate the average price, avg_price\n",
    "\n",
    "avg_price = round(prices[\"price\"].mean(), 2)"
   ]
  },
  {
   "cell_type": "code",
   "execution_count": 45,
   "id": "393e86cb",
   "metadata": {},
   "outputs": [
    {
     "data": {
      "text/plain": [
       "141.82"
      ]
     },
     "execution_count": 45,
     "metadata": {},
     "output_type": "execute_result"
    }
   ],
   "source": [
    "avg_price"
   ]
  },
  {
   "cell_type": "code",
   "execution_count": 46,
   "id": "6c400583",
   "metadata": {},
   "outputs": [],
   "source": [
    "# Plot a graph for average prices"
   ]
  },
  {
   "cell_type": "code",
   "execution_count": 47,
   "id": "bac54586",
   "metadata": {},
   "outputs": [
    {
     "data": {
      "image/png": "[encoded data removed]",
      "text/plain": [
       "<Figure size 432x288 with 1 Axes>"
      ]
     },
     "metadata": {
      "needs_background": "light"
     },
     "output_type": "display_data"
    }
   ],
   "source": [
    "# Calculate the average price\n",
    "avg_price = round(prices[\"price\"].mean(), 2)\n",
    "\n",
    "# Create a bar plot\n",
    "plt.figure(figsize=(6, 4))\n",
    "plt.bar(\"Average Price\", avg_price, color=\"maroon\")\n",
    "\n",
    "# Add the value label to the bar\n",
    "plt.text(0, avg_price + 5, f\"${avg_price:.2f}\", ha=\"center\", color=\"green\")\n",
    "\n",
    "# Customize the plot\n",
    "plt.title(\"Average Price\")\n",
    "plt.ylabel(\"Price\")\n",
    "plt.ylim(0, avg_price + 50)\n",
    "\n",
    "# Display the plot\n",
    "plt.show()\n",
    "\n"
   ]
  },
  {
   "cell_type": "code",
   "execution_count": null,
   "id": "9ace1347",
   "metadata": {},
   "outputs": [],
   "source": []
  },
  {
   "cell_type": "code",
   "execution_count": 48,
   "id": "cce114b9",
   "metadata": {},
   "outputs": [
    {
     "data": {
      "image/png": "[encoded data removed]",
      "text/plain": [
       "<Figure size 720x432 with 1 Axes>"
      ]
     },
     "metadata": {
      "needs_background": "light"
     },
     "output_type": "display_data"
    }
   ],
   "source": [
    "# Calculate the average price per neighborhood\n",
    "average_prices = filtered_prices.groupby(\"nbhood_full\")[\"price\"].mean().sort_values(ascending=False).head(5)\n",
    "\n",
    "# Set color palette for color blindness\n",
    "colors = sns.color_palette(\"colorblind\")\n",
    "\n",
    "# Create a bar plot\n",
    "plt.figure(figsize=(10, 6))\n",
    "plt.bar(average_prices.index, average_prices.values, color=colors)\n",
    "\n",
    "# Add labels to each bar\n",
    "for i, price in enumerate(average_prices.values):\n",
    "    plt.text(i, price + 5, f\"${price:.2f}\", ha='center', color='black')\n",
    "\n",
    "# Customize plot\n",
    "plt.title('Average Prices by Neighborhood (Top 5)')\n",
    "plt.xlabel('Neighborhood')\n",
    "plt.ylabel('Average Price')\n",
    "\n",
    "# Rotate x-axis labels for better visibility\n",
    "plt.xticks(rotation=45)\n",
    "\n",
    "# Display the plot\n",
    "plt.show()\n"
   ]
  },
  {
   "cell_type": "code",
   "execution_count": null,
   "id": "d5fcda7b",
   "metadata": {},
   "outputs": [],
   "source": []
  },
  {
   "cell_type": "code",
   "execution_count": 49,
   "id": "e4604c62",
   "metadata": {},
   "outputs": [],
   "source": [
    "# Step 4. Comparing costs to the private rental market"
   ]
  },
  {
   "cell_type": "code",
   "execution_count": null,
   "id": "68831e56",
   "metadata": {},
   "outputs": [],
   "source": []
  },
  {
   "cell_type": "code",
   "execution_count": 50,
   "id": "2f29ffb8",
   "metadata": {},
   "outputs": [],
   "source": [
    "# Add a new column to the prices DataFrame, price_per_month\n",
    "\n",
    "prices[\"price_per_month\"] = prices[\"price\"] * 365 / 12"
   ]
  },
  {
   "cell_type": "code",
   "execution_count": 51,
   "id": "ea31ab7d",
   "metadata": {},
   "outputs": [
    {
     "data": {
      "text/plain": [
       "0        6843.750000\n",
       "1        2707.083333\n",
       "2        6083.333333\n",
       "3        2402.916667\n",
       "4        4562.500000\n",
       "            ...     \n",
       "25204    3923.750000\n",
       "25205    1368.750000\n",
       "25206    7147.916667\n",
       "25207    3041.666667\n",
       "25208     912.500000\n",
       "Name: price_per_month, Length: 25202, dtype: float64"
      ]
     },
     "execution_count": 51,
     "metadata": {},
     "output_type": "execute_result"
    }
   ],
   "source": [
    "prices[\"price_per_month\"]"
   ]
  },
  {
   "cell_type": "code",
   "execution_count": 52,
   "id": "26645e63",
   "metadata": {},
   "outputs": [],
   "source": [
    "# Calculate average_price_per_month\n",
    "\n",
    "average_price_per_month = round(prices[\"price_per_month\"].mean(), 2)"
   ]
  },
  {
   "cell_type": "code",
   "execution_count": 53,
   "id": "783de346",
   "metadata": {},
   "outputs": [
    {
     "data": {
      "text/plain": [
       "4313.61"
      ]
     },
     "execution_count": 53,
     "metadata": {},
     "output_type": "execute_result"
    }
   ],
   "source": [
    "average_price_per_month"
   ]
  },
  {
   "cell_type": "code",
   "execution_count": 54,
   "id": "3387394a",
   "metadata": {},
   "outputs": [],
   "source": [
    "# listing costs, on average, per nigh  in New York City costs, on average, $3,100 per month.  "
   ]
  },
  {
   "cell_type": "code",
   "execution_count": 55,
   "id": "36ca82cf",
   "metadata": {},
   "outputs": [],
   "source": [
    "difference = round((average_price_per_month - 3100),2)"
   ]
  },
  {
   "cell_type": "code",
   "execution_count": 56,
   "id": "bc4c5430",
   "metadata": {},
   "outputs": [
    {
     "data": {
      "text/plain": [
       "1213.61"
      ]
     },
     "execution_count": 56,
     "metadata": {},
     "output_type": "execute_result"
    }
   ],
   "source": [
    "difference"
   ]
  },
  {
   "cell_type": "code",
   "execution_count": null,
   "id": "ccc50511",
   "metadata": {},
   "outputs": [],
   "source": []
  },
  {
   "cell_type": "code",
   "execution_count": 57,
   "id": "42caa3fd",
   "metadata": {},
   "outputs": [],
   "source": [
    "# Step 5. Cleaning the room_type column"
   ]
  },
  {
   "cell_type": "code",
   "execution_count": 58,
   "id": "39de7319",
   "metadata": {},
   "outputs": [],
   "source": [
    "# Convert the room_type column to lowercase\n",
    "\n",
    "room_types[\"room_type\"] = room_types[\"room_type\"].str.lower()"
   ]
  },
  {
   "cell_type": "code",
   "execution_count": 59,
   "id": "53b03bb9",
   "metadata": {},
   "outputs": [
    {
     "data": {
      "text/plain": [
       "0        entire home/apt\n",
       "1        entire home/apt\n",
       "2        entire home/apt\n",
       "3           private room\n",
       "4        entire home/apt\n",
       "              ...       \n",
       "25204       private room\n",
       "25205       private room\n",
       "25206       private room\n",
       "25207    entire home/apt\n",
       "25208       private room\n",
       "Name: room_type, Length: 25209, dtype: object"
      ]
     },
     "execution_count": 59,
     "metadata": {},
     "output_type": "execute_result"
    }
   ],
   "source": [
    "room_types[\"room_type\"]"
   ]
  },
  {
   "cell_type": "code",
   "execution_count": 60,
   "id": "ac3e8942",
   "metadata": {},
   "outputs": [],
   "source": [
    "# Update the room_type column to category data type\n",
    "\n",
    "room_types[\"room_type\"] = room_types[\"room_type\"].astype(\"category\")"
   ]
  },
  {
   "cell_type": "code",
   "execution_count": 61,
   "id": "0a27296e",
   "metadata": {},
   "outputs": [
    {
     "data": {
      "text/plain": [
       "CategoricalDtype(categories=['entire home/apt', 'private room', 'shared room'], ordered=False)"
      ]
     },
     "execution_count": 61,
     "metadata": {},
     "output_type": "execute_result"
    }
   ],
   "source": [
    "room_types[\"room_type\"].dtype"
   ]
  },
  {
   "cell_type": "code",
   "execution_count": 62,
   "id": "17e07c37",
   "metadata": {},
   "outputs": [],
   "source": [
    "# Create the variable room_frequencies\n",
    "\n",
    "room_frequencies = room_types[\"room_type\"].value_counts()"
   ]
  },
  {
   "cell_type": "code",
   "execution_count": 63,
   "id": "1eeea80c",
   "metadata": {
    "scrolled": true
   },
   "outputs": [
    {
     "data": {
      "text/plain": [
       "entire home/apt    13266\n",
       "private room       11356\n",
       "shared room          587\n",
       "Name: room_type, dtype: int64"
      ]
     },
     "execution_count": 63,
     "metadata": {},
     "output_type": "execute_result"
    }
   ],
   "source": [
    "room_frequencies"
   ]
  },
  {
   "cell_type": "code",
   "execution_count": null,
   "id": "16dedc7b",
   "metadata": {},
   "outputs": [],
   "source": []
  },
  {
   "cell_type": "code",
   "execution_count": 64,
   "id": "ef187c3d",
   "metadata": {},
   "outputs": [],
   "source": [
    "# Plot a graph showing room_frequencies"
   ]
  },
  {
   "cell_type": "code",
   "execution_count": 65,
   "id": "48c24b7b",
   "metadata": {},
   "outputs": [
    {
     "data": {
      "image/png": "[encoded data removed]",
      "text/plain": [
       "<Figure size 720x432 with 1 Axes>"
      ]
     },
     "metadata": {
      "needs_background": "light"
     },
     "output_type": "display_data"
    }
   ],
   "source": [
    "# Set color palette for color-blind friendly colors\n",
    "colors = sns.color_palette('colorblind')\n",
    "\n",
    "# Plot the room frequencies\n",
    "plt.figure(figsize=(10, 6))\n",
    "room_frequencies.plot(kind='bar', color=colors)\n",
    "plt.title('Room Frequencies')\n",
    "plt.xlabel('Room Type')\n",
    "plt.ylabel('Frequency')\n",
    "plt.xticks(rotation=45)\n",
    "\n",
    "# Add values to each bar\n",
    "for i, v in enumerate(room_frequencies):\n",
    "    plt.text(i, v + 5, str(v), ha='center', color='black', fontweight='bold')\n",
    "\n",
    "plt.show()\n"
   ]
  },
  {
   "cell_type": "code",
   "execution_count": null,
   "id": "e5e53b3c",
   "metadata": {},
   "outputs": [],
   "source": []
  },
  {
   "cell_type": "code",
   "execution_count": 66,
   "id": "5ceb28d2",
   "metadata": {},
   "outputs": [],
   "source": [
    "# Step 6. What timeframe are we working with?"
   ]
  },
  {
   "cell_type": "code",
   "execution_count": 67,
   "id": "da3b3f5c",
   "metadata": {},
   "outputs": [],
   "source": [
    "# Change the data type of the last_review column to datetime\n",
    "\n",
    "reviews[\"last_review\"] = pd.to_datetime(reviews[\"last_review\"])"
   ]
  },
  {
   "cell_type": "code",
   "execution_count": 68,
   "id": "965440a2",
   "metadata": {},
   "outputs": [
    {
     "data": {
      "text/plain": [
       "dtype('<M8[ns]')"
      ]
     },
     "execution_count": 68,
     "metadata": {},
     "output_type": "execute_result"
    }
   ],
   "source": [
    "reviews[\"last_review\"].dtype"
   ]
  },
  {
   "cell_type": "code",
   "execution_count": 69,
   "id": "d4dffada",
   "metadata": {},
   "outputs": [],
   "source": [
    "# Create first_reviewed, the earliest review date\n",
    "\n",
    "first_reviewed = reviews[\"last_review\"].dt.date.min()"
   ]
  },
  {
   "cell_type": "code",
   "execution_count": 70,
   "id": "391ecbda",
   "metadata": {},
   "outputs": [
    {
     "data": {
      "text/plain": [
       "datetime.date(2019, 1, 1)"
      ]
     },
     "execution_count": 70,
     "metadata": {},
     "output_type": "execute_result"
    }
   ],
   "source": [
    "first_reviewed"
   ]
  },
  {
   "cell_type": "code",
   "execution_count": null,
   "id": "76192e9f",
   "metadata": {},
   "outputs": [],
   "source": []
  },
  {
   "cell_type": "code",
   "execution_count": 71,
   "id": "6450bbdb",
   "metadata": {},
   "outputs": [
    {
     "name": "stdout",
     "output_type": "stream",
     "text": [
      "  First Reviewed\n",
      "0     2019-01-01\n"
     ]
    }
   ],
   "source": [
    "import pandas as pd\n",
    "\n",
    "# Convert first_reviewed to a datetime object\n",
    "first_reviewed_date = pd.to_datetime(first_reviewed)\n",
    "\n",
    "# Create a DataFrame to display the first review date\n",
    "first_review_df = pd.DataFrame({'First Reviewed': [first_reviewed_date]})\n",
    "\n",
    "# Display the DataFrame\n",
    "print(first_review_df)\n",
    "\n"
   ]
  },
  {
   "cell_type": "code",
   "execution_count": 72,
   "id": "e80ebcd2",
   "metadata": {},
   "outputs": [
    {
     "name": "stdout",
     "output_type": "stream",
     "text": [
      "First Reviewed Date:\n",
      "--------------------\n",
      "Year:  2019\n",
      "Month: January\n",
      "Day:   1\n"
     ]
    }
   ],
   "source": [
    "import pandas as pd\n",
    "\n",
    "# Calculate the first reviewed date\n",
    "first_reviewed = reviews[\"last_review\"].dt.date.min()\n",
    "\n",
    "# Convert first_reviewed to a datetime object\n",
    "first_reviewed_date = pd.to_datetime(first_reviewed)\n",
    "\n",
    "# Display the first review date\n",
    "print(\"First Reviewed Date:\")\n",
    "print(\"--------------------\")\n",
    "print(f\"Year:  {first_reviewed_date.year}\")\n",
    "print(f\"Month: {first_reviewed_date.strftime('%B')}\")\n",
    "print(f\"Day:   {first_reviewed_date.day}\")\n"
   ]
  },
  {
   "cell_type": "code",
   "execution_count": 73,
   "id": "a9c1e29a",
   "metadata": {},
   "outputs": [],
   "source": [
    "# Create last_reviewed, the most recent review date\n",
    "\n",
    "last_reviewed = reviews[\"last_review\"].dt.date.max()"
   ]
  },
  {
   "cell_type": "code",
   "execution_count": 74,
   "id": "c0729703",
   "metadata": {},
   "outputs": [
    {
     "data": {
      "text/plain": [
       "datetime.date(2019, 7, 9)"
      ]
     },
     "execution_count": 74,
     "metadata": {},
     "output_type": "execute_result"
    }
   ],
   "source": [
    "last_reviewed"
   ]
  },
  {
   "cell_type": "code",
   "execution_count": 75,
   "id": "9c8513a8",
   "metadata": {},
   "outputs": [
    {
     "name": "stdout",
     "output_type": "stream",
     "text": [
      "  Last Reviewed\n",
      "0    2019-07-09\n"
     ]
    }
   ],
   "source": [
    "# Calculate the last reviewed date\n",
    "last_reviewed = reviews[\"last_review\"].dt.date.max()\n",
    "\n",
    "# Convert last_reviewed to a datetime object\n",
    "last_reviewed_date = pd.to_datetime(last_reviewed)\n",
    "\n",
    "# Create a DataFrame to display the last review date\n",
    "last_review_df = pd.DataFrame({'Last Reviewed': [last_reviewed_date]})\n",
    "\n",
    "# Display the DataFrame\n",
    "print(last_review_df)\n"
   ]
  },
  {
   "cell_type": "code",
   "execution_count": 76,
   "id": "a10b2530",
   "metadata": {},
   "outputs": [
    {
     "name": "stdout",
     "output_type": "stream",
     "text": [
      "Last Reviewed Date:\n",
      "-------------------\n",
      "Year:  2019\n",
      "Month: July\n",
      "Day:   9\n"
     ]
    }
   ],
   "source": [
    "# Calculate the last reviewed date\n",
    "last_reviewed = reviews[\"last_review\"].dt.date.max()\n",
    "\n",
    "# Convert last_reviewed to a datetime object\n",
    "last_reviewed_date = pd.to_datetime(last_reviewed)\n",
    "\n",
    "# Display the last review date\n",
    "print(\"Last Reviewed Date:\")\n",
    "print(\"-------------------\")\n",
    "print(f\"Year:  {last_reviewed_date.year}\")\n",
    "print(f\"Month: {last_reviewed_date.strftime('%B')}\")\n",
    "print(f\"Day:   {last_reviewed_date.day}\")\n"
   ]
  },
  {
   "cell_type": "code",
   "execution_count": null,
   "id": "84ab9f68",
   "metadata": {},
   "outputs": [],
   "source": []
  },
  {
   "cell_type": "code",
   "execution_count": 77,
   "id": "696ccadf",
   "metadata": {},
   "outputs": [],
   "source": [
    "# Step 7. Joining the DataFrames"
   ]
  },
  {
   "cell_type": "code",
   "execution_count": 78,
   "id": "b000bfce",
   "metadata": {},
   "outputs": [],
   "source": [
    "# Merge prices and room_types to create rooms_and_prices\n",
    "\n",
    "rooms_and_prices = prices.merge(room_types, how=\"outer\", on=\"listing_id\")"
   ]
  },
  {
   "cell_type": "code",
   "execution_count": 79,
   "id": "bb657bde",
   "metadata": {},
   "outputs": [
    {
     "data": {
      "text/html": [
       "<div>\n",
       "<style scoped>\n",
       "    .dataframe tbody tr th:only-of-type {\n",
       "        vertical-align: middle;\n",
       "    }\n",
       "\n",
       "    .dataframe tbody tr th {\n",
       "        vertical-align: top;\n",
       "    }\n",
       "\n",
       "    .dataframe thead th {\n",
       "        text-align: right;\n",
       "    }\n",
       "</style>\n",
       "<table border=\"1\" class=\"dataframe\">\n",
       "  <thead>\n",
       "    <tr style=\"text-align: right;\">\n",
       "      <th></th>\n",
       "      <th>listing_id</th>\n",
       "      <th>price</th>\n",
       "      <th>nbhood_full</th>\n",
       "      <th>price_per_month</th>\n",
       "      <th>description</th>\n",
       "      <th>room_type</th>\n",
       "    </tr>\n",
       "  </thead>\n",
       "  <tbody>\n",
       "    <tr>\n",
       "      <th>0</th>\n",
       "      <td>2595</td>\n",
       "      <td>225.0</td>\n",
       "      <td>Manhattan, Midtown</td>\n",
       "      <td>6843.750000</td>\n",
       "      <td>Skylit Midtown Castle</td>\n",
       "      <td>entire home/apt</td>\n",
       "    </tr>\n",
       "    <tr>\n",
       "      <th>1</th>\n",
       "      <td>3831</td>\n",
       "      <td>89.0</td>\n",
       "      <td>Brooklyn, Clinton Hill</td>\n",
       "      <td>2707.083333</td>\n",
       "      <td>Cozy Entire Floor of Brownstone</td>\n",
       "      <td>entire home/apt</td>\n",
       "    </tr>\n",
       "    <tr>\n",
       "      <th>2</th>\n",
       "      <td>5099</td>\n",
       "      <td>200.0</td>\n",
       "      <td>Manhattan, Murray Hill</td>\n",
       "      <td>6083.333333</td>\n",
       "      <td>Large Cozy 1 BR Apartment In Midtown East</td>\n",
       "      <td>entire home/apt</td>\n",
       "    </tr>\n",
       "    <tr>\n",
       "      <th>3</th>\n",
       "      <td>5178</td>\n",
       "      <td>79.0</td>\n",
       "      <td>Manhattan, Hell's Kitchen</td>\n",
       "      <td>2402.916667</td>\n",
       "      <td>Large Furnished Room Near B'way</td>\n",
       "      <td>private room</td>\n",
       "    </tr>\n",
       "    <tr>\n",
       "      <th>4</th>\n",
       "      <td>5238</td>\n",
       "      <td>150.0</td>\n",
       "      <td>Manhattan, Chinatown</td>\n",
       "      <td>4562.500000</td>\n",
       "      <td>Cute &amp; Cozy Lower East Side 1 bdrm</td>\n",
       "      <td>entire home/apt</td>\n",
       "    </tr>\n",
       "    <tr>\n",
       "      <th>...</th>\n",
       "      <td>...</td>\n",
       "      <td>...</td>\n",
       "      <td>...</td>\n",
       "      <td>...</td>\n",
       "      <td>...</td>\n",
       "      <td>...</td>\n",
       "    </tr>\n",
       "    <tr>\n",
       "      <th>25204</th>\n",
       "      <td>20639628</td>\n",
       "      <td>NaN</td>\n",
       "      <td>NaN</td>\n",
       "      <td>NaN</td>\n",
       "      <td>Spacious comfortable master bedroom with nice ...</td>\n",
       "      <td>private room</td>\n",
       "    </tr>\n",
       "    <tr>\n",
       "      <th>25205</th>\n",
       "      <td>20639792</td>\n",
       "      <td>NaN</td>\n",
       "      <td>NaN</td>\n",
       "      <td>NaN</td>\n",
       "      <td>Contemporary bedroom in brownstone with nice view</td>\n",
       "      <td>private room</td>\n",
       "    </tr>\n",
       "    <tr>\n",
       "      <th>25206</th>\n",
       "      <td>20639914</td>\n",
       "      <td>NaN</td>\n",
       "      <td>NaN</td>\n",
       "      <td>NaN</td>\n",
       "      <td>Cozy yet spacious private brownstone bedroom</td>\n",
       "      <td>private room</td>\n",
       "    </tr>\n",
       "    <tr>\n",
       "      <th>25207</th>\n",
       "      <td>21291569</td>\n",
       "      <td>NaN</td>\n",
       "      <td>NaN</td>\n",
       "      <td>NaN</td>\n",
       "      <td>Coliving in Brooklyn! Modern design / Shared room</td>\n",
       "      <td>shared room</td>\n",
       "    </tr>\n",
       "    <tr>\n",
       "      <th>25208</th>\n",
       "      <td>21304320</td>\n",
       "      <td>NaN</td>\n",
       "      <td>NaN</td>\n",
       "      <td>NaN</td>\n",
       "      <td>Best Coliving space ever! Shared room.</td>\n",
       "      <td>shared room</td>\n",
       "    </tr>\n",
       "  </tbody>\n",
       "</table>\n",
       "<p>25209 rows × 6 columns</p>\n",
       "</div>"
      ],
      "text/plain": [
       "       listing_id  price                nbhood_full  price_per_month  \\\n",
       "0            2595  225.0         Manhattan, Midtown      6843.750000   \n",
       "1            3831   89.0     Brooklyn, Clinton Hill      2707.083333   \n",
       "2            5099  200.0     Manhattan, Murray Hill      6083.333333   \n",
       "3            5178   79.0  Manhattan, Hell's Kitchen      2402.916667   \n",
       "4            5238  150.0       Manhattan, Chinatown      4562.500000   \n",
       "...           ...    ...                        ...              ...   \n",
       "25204    20639628    NaN                        NaN              NaN   \n",
       "25205    20639792    NaN                        NaN              NaN   \n",
       "25206    20639914    NaN                        NaN              NaN   \n",
       "25207    21291569    NaN                        NaN              NaN   \n",
       "25208    21304320    NaN                        NaN              NaN   \n",
       "\n",
       "                                             description        room_type  \n",
       "0                                  Skylit Midtown Castle  entire home/apt  \n",
       "1                        Cozy Entire Floor of Brownstone  entire home/apt  \n",
       "2              Large Cozy 1 BR Apartment In Midtown East  entire home/apt  \n",
       "3                        Large Furnished Room Near B'way     private room  \n",
       "4                     Cute & Cozy Lower East Side 1 bdrm  entire home/apt  \n",
       "...                                                  ...              ...  \n",
       "25204  Spacious comfortable master bedroom with nice ...     private room  \n",
       "25205  Contemporary bedroom in brownstone with nice view     private room  \n",
       "25206       Cozy yet spacious private brownstone bedroom     private room  \n",
       "25207  Coliving in Brooklyn! Modern design / Shared room      shared room  \n",
       "25208             Best Coliving space ever! Shared room.      shared room  \n",
       "\n",
       "[25209 rows x 6 columns]"
      ]
     },
     "execution_count": 79,
     "metadata": {},
     "output_type": "execute_result"
    }
   ],
   "source": [
    "rooms_and_prices"
   ]
  },
  {
   "cell_type": "code",
   "execution_count": 80,
   "id": "ab89f769",
   "metadata": {},
   "outputs": [
    {
     "data": {
      "text/plain": [
       "(25209, 6)"
      ]
     },
     "execution_count": 80,
     "metadata": {},
     "output_type": "execute_result"
    }
   ],
   "source": [
    "rooms_and_prices.shape"
   ]
  },
  {
   "cell_type": "code",
   "execution_count": 81,
   "id": "a09faf6d",
   "metadata": {},
   "outputs": [
    {
     "data": {
      "text/html": [
       "<div>\n",
       "<style scoped>\n",
       "    .dataframe tbody tr th:only-of-type {\n",
       "        vertical-align: middle;\n",
       "    }\n",
       "\n",
       "    .dataframe tbody tr th {\n",
       "        vertical-align: top;\n",
       "    }\n",
       "\n",
       "    .dataframe thead th {\n",
       "        text-align: right;\n",
       "    }\n",
       "</style>\n",
       "<table border=\"1\" class=\"dataframe\">\n",
       "  <thead>\n",
       "    <tr style=\"text-align: right;\">\n",
       "      <th></th>\n",
       "      <th>listing_id</th>\n",
       "      <th>price</th>\n",
       "      <th>price_per_month</th>\n",
       "    </tr>\n",
       "  </thead>\n",
       "  <tbody>\n",
       "    <tr>\n",
       "      <th>count</th>\n",
       "      <td>2.520900e+04</td>\n",
       "      <td>25202.000000</td>\n",
       "      <td>25202.000000</td>\n",
       "    </tr>\n",
       "    <tr>\n",
       "      <th>mean</th>\n",
       "      <td>2.068922e+07</td>\n",
       "      <td>141.817316</td>\n",
       "      <td>4313.610031</td>\n",
       "    </tr>\n",
       "    <tr>\n",
       "      <th>std</th>\n",
       "      <td>1.102928e+07</td>\n",
       "      <td>147.350650</td>\n",
       "      <td>4481.915598</td>\n",
       "    </tr>\n",
       "    <tr>\n",
       "      <th>min</th>\n",
       "      <td>2.595000e+03</td>\n",
       "      <td>10.000000</td>\n",
       "      <td>304.166667</td>\n",
       "    </tr>\n",
       "    <tr>\n",
       "      <th>25%</th>\n",
       "      <td>1.202273e+07</td>\n",
       "      <td>69.000000</td>\n",
       "      <td>2098.750000</td>\n",
       "    </tr>\n",
       "    <tr>\n",
       "      <th>50%</th>\n",
       "      <td>2.234391e+07</td>\n",
       "      <td>105.000000</td>\n",
       "      <td>3193.750000</td>\n",
       "    </tr>\n",
       "    <tr>\n",
       "      <th>75%</th>\n",
       "      <td>3.037669e+07</td>\n",
       "      <td>175.000000</td>\n",
       "      <td>5322.916667</td>\n",
       "    </tr>\n",
       "    <tr>\n",
       "      <th>max</th>\n",
       "      <td>3.645581e+07</td>\n",
       "      <td>7500.000000</td>\n",
       "      <td>228125.000000</td>\n",
       "    </tr>\n",
       "  </tbody>\n",
       "</table>\n",
       "</div>"
      ],
      "text/plain": [
       "         listing_id         price  price_per_month\n",
       "count  2.520900e+04  25202.000000     25202.000000\n",
       "mean   2.068922e+07    141.817316      4313.610031\n",
       "std    1.102928e+07    147.350650      4481.915598\n",
       "min    2.595000e+03     10.000000       304.166667\n",
       "25%    1.202273e+07     69.000000      2098.750000\n",
       "50%    2.234391e+07    105.000000      3193.750000\n",
       "75%    3.037669e+07    175.000000      5322.916667\n",
       "max    3.645581e+07   7500.000000    228125.000000"
      ]
     },
     "execution_count": 81,
     "metadata": {},
     "output_type": "execute_result"
    }
   ],
   "source": [
    "rooms_and_prices.describe()"
   ]
  },
  {
   "cell_type": "code",
   "execution_count": null,
   "id": "53cd78b8",
   "metadata": {},
   "outputs": [],
   "source": []
  },
  {
   "cell_type": "code",
   "execution_count": 82,
   "id": "d97bca52",
   "metadata": {},
   "outputs": [],
   "source": [
    "# Merge rooms_and_prices with the reviews DataFrame to create airbnb_merged\n",
    "\n",
    "airbnb_merged = rooms_and_prices.merge(reviews, how=\"outer\", on=\"listing_id\")"
   ]
  },
  {
   "cell_type": "code",
   "execution_count": null,
   "id": "e02f856f",
   "metadata": {},
   "outputs": [],
   "source": []
  },
  {
   "cell_type": "code",
   "execution_count": null,
   "id": "cdaf602b",
   "metadata": {},
   "outputs": [],
   "source": []
  },
  {
   "cell_type": "code",
   "execution_count": 83,
   "id": "9fcfe4f2",
   "metadata": {},
   "outputs": [
    {
     "data": {
      "text/plain": [
       "(25209, 8)"
      ]
     },
     "execution_count": 83,
     "metadata": {},
     "output_type": "execute_result"
    }
   ],
   "source": [
    "airbnb_merged.shape"
   ]
  },
  {
   "cell_type": "code",
   "execution_count": 84,
   "id": "396dff85",
   "metadata": {},
   "outputs": [
    {
     "data": {
      "text/html": [
       "<div>\n",
       "<style scoped>\n",
       "    .dataframe tbody tr th:only-of-type {\n",
       "        vertical-align: middle;\n",
       "    }\n",
       "\n",
       "    .dataframe tbody tr th {\n",
       "        vertical-align: top;\n",
       "    }\n",
       "\n",
       "    .dataframe thead th {\n",
       "        text-align: right;\n",
       "    }\n",
       "</style>\n",
       "<table border=\"1\" class=\"dataframe\">\n",
       "  <thead>\n",
       "    <tr style=\"text-align: right;\">\n",
       "      <th></th>\n",
       "      <th>listing_id</th>\n",
       "      <th>price</th>\n",
       "      <th>price_per_month</th>\n",
       "    </tr>\n",
       "  </thead>\n",
       "  <tbody>\n",
       "    <tr>\n",
       "      <th>count</th>\n",
       "      <td>2.520900e+04</td>\n",
       "      <td>25202.000000</td>\n",
       "      <td>25202.000000</td>\n",
       "    </tr>\n",
       "    <tr>\n",
       "      <th>mean</th>\n",
       "      <td>2.068922e+07</td>\n",
       "      <td>141.817316</td>\n",
       "      <td>4313.610031</td>\n",
       "    </tr>\n",
       "    <tr>\n",
       "      <th>std</th>\n",
       "      <td>1.102928e+07</td>\n",
       "      <td>147.350650</td>\n",
       "      <td>4481.915598</td>\n",
       "    </tr>\n",
       "    <tr>\n",
       "      <th>min</th>\n",
       "      <td>2.595000e+03</td>\n",
       "      <td>10.000000</td>\n",
       "      <td>304.166667</td>\n",
       "    </tr>\n",
       "    <tr>\n",
       "      <th>25%</th>\n",
       "      <td>1.202273e+07</td>\n",
       "      <td>69.000000</td>\n",
       "      <td>2098.750000</td>\n",
       "    </tr>\n",
       "    <tr>\n",
       "      <th>50%</th>\n",
       "      <td>2.234391e+07</td>\n",
       "      <td>105.000000</td>\n",
       "      <td>3193.750000</td>\n",
       "    </tr>\n",
       "    <tr>\n",
       "      <th>75%</th>\n",
       "      <td>3.037669e+07</td>\n",
       "      <td>175.000000</td>\n",
       "      <td>5322.916667</td>\n",
       "    </tr>\n",
       "    <tr>\n",
       "      <th>max</th>\n",
       "      <td>3.645581e+07</td>\n",
       "      <td>7500.000000</td>\n",
       "      <td>228125.000000</td>\n",
       "    </tr>\n",
       "  </tbody>\n",
       "</table>\n",
       "</div>"
      ],
      "text/plain": [
       "         listing_id         price  price_per_month\n",
       "count  2.520900e+04  25202.000000     25202.000000\n",
       "mean   2.068922e+07    141.817316      4313.610031\n",
       "std    1.102928e+07    147.350650      4481.915598\n",
       "min    2.595000e+03     10.000000       304.166667\n",
       "25%    1.202273e+07     69.000000      2098.750000\n",
       "50%    2.234391e+07    105.000000      3193.750000\n",
       "75%    3.037669e+07    175.000000      5322.916667\n",
       "max    3.645581e+07   7500.000000    228125.000000"
      ]
     },
     "execution_count": 84,
     "metadata": {},
     "output_type": "execute_result"
    }
   ],
   "source": [
    "airbnb_merged.describe()"
   ]
  },
  {
   "cell_type": "code",
   "execution_count": 85,
   "id": "7a9c1d9c",
   "metadata": {
    "scrolled": true
   },
   "outputs": [
    {
     "data": {
      "text/html": [
       "<div>\n",
       "<style scoped>\n",
       "    .dataframe tbody tr th:only-of-type {\n",
       "        vertical-align: middle;\n",
       "    }\n",
       "\n",
       "    .dataframe tbody tr th {\n",
       "        vertical-align: top;\n",
       "    }\n",
       "\n",
       "    .dataframe thead th {\n",
       "        text-align: right;\n",
       "    }\n",
       "</style>\n",
       "<table border=\"1\" class=\"dataframe\">\n",
       "  <thead>\n",
       "    <tr style=\"text-align: right;\">\n",
       "      <th></th>\n",
       "      <th>listing_id</th>\n",
       "      <th>price</th>\n",
       "      <th>nbhood_full</th>\n",
       "      <th>price_per_month</th>\n",
       "      <th>description</th>\n",
       "      <th>room_type</th>\n",
       "      <th>host_name</th>\n",
       "      <th>last_review</th>\n",
       "    </tr>\n",
       "  </thead>\n",
       "  <tbody>\n",
       "    <tr>\n",
       "      <th>0</th>\n",
       "      <td>2595</td>\n",
       "      <td>225.0</td>\n",
       "      <td>Manhattan, Midtown</td>\n",
       "      <td>6843.750000</td>\n",
       "      <td>Skylit Midtown Castle</td>\n",
       "      <td>entire home/apt</td>\n",
       "      <td>Jennifer</td>\n",
       "      <td>2019-05-21</td>\n",
       "    </tr>\n",
       "    <tr>\n",
       "      <th>1</th>\n",
       "      <td>3831</td>\n",
       "      <td>89.0</td>\n",
       "      <td>Brooklyn, Clinton Hill</td>\n",
       "      <td>2707.083333</td>\n",
       "      <td>Cozy Entire Floor of Brownstone</td>\n",
       "      <td>entire home/apt</td>\n",
       "      <td>LisaRoxanne</td>\n",
       "      <td>2019-07-05</td>\n",
       "    </tr>\n",
       "    <tr>\n",
       "      <th>2</th>\n",
       "      <td>5099</td>\n",
       "      <td>200.0</td>\n",
       "      <td>Manhattan, Murray Hill</td>\n",
       "      <td>6083.333333</td>\n",
       "      <td>Large Cozy 1 BR Apartment In Midtown East</td>\n",
       "      <td>entire home/apt</td>\n",
       "      <td>Chris</td>\n",
       "      <td>2019-06-22</td>\n",
       "    </tr>\n",
       "    <tr>\n",
       "      <th>3</th>\n",
       "      <td>5178</td>\n",
       "      <td>79.0</td>\n",
       "      <td>Manhattan, Hell's Kitchen</td>\n",
       "      <td>2402.916667</td>\n",
       "      <td>Large Furnished Room Near B'way</td>\n",
       "      <td>private room</td>\n",
       "      <td>Shunichi</td>\n",
       "      <td>2019-06-24</td>\n",
       "    </tr>\n",
       "    <tr>\n",
       "      <th>4</th>\n",
       "      <td>5238</td>\n",
       "      <td>150.0</td>\n",
       "      <td>Manhattan, Chinatown</td>\n",
       "      <td>4562.500000</td>\n",
       "      <td>Cute &amp; Cozy Lower East Side 1 bdrm</td>\n",
       "      <td>entire home/apt</td>\n",
       "      <td>Ben</td>\n",
       "      <td>2019-06-09</td>\n",
       "    </tr>\n",
       "    <tr>\n",
       "      <th>...</th>\n",
       "      <td>...</td>\n",
       "      <td>...</td>\n",
       "      <td>...</td>\n",
       "      <td>...</td>\n",
       "      <td>...</td>\n",
       "      <td>...</td>\n",
       "      <td>...</td>\n",
       "      <td>...</td>\n",
       "    </tr>\n",
       "    <tr>\n",
       "      <th>25204</th>\n",
       "      <td>20639628</td>\n",
       "      <td>NaN</td>\n",
       "      <td>NaN</td>\n",
       "      <td>NaN</td>\n",
       "      <td>Spacious comfortable master bedroom with nice ...</td>\n",
       "      <td>private room</td>\n",
       "      <td>Adeyemi</td>\n",
       "      <td>2019-06-15</td>\n",
       "    </tr>\n",
       "    <tr>\n",
       "      <th>25205</th>\n",
       "      <td>20639792</td>\n",
       "      <td>NaN</td>\n",
       "      <td>NaN</td>\n",
       "      <td>NaN</td>\n",
       "      <td>Contemporary bedroom in brownstone with nice view</td>\n",
       "      <td>private room</td>\n",
       "      <td>Adeyemi</td>\n",
       "      <td>2019-06-21</td>\n",
       "    </tr>\n",
       "    <tr>\n",
       "      <th>25206</th>\n",
       "      <td>20639914</td>\n",
       "      <td>NaN</td>\n",
       "      <td>NaN</td>\n",
       "      <td>NaN</td>\n",
       "      <td>Cozy yet spacious private brownstone bedroom</td>\n",
       "      <td>private room</td>\n",
       "      <td>Adeyemi</td>\n",
       "      <td>2019-06-23</td>\n",
       "    </tr>\n",
       "    <tr>\n",
       "      <th>25207</th>\n",
       "      <td>21291569</td>\n",
       "      <td>NaN</td>\n",
       "      <td>NaN</td>\n",
       "      <td>NaN</td>\n",
       "      <td>Coliving in Brooklyn! Modern design / Shared room</td>\n",
       "      <td>shared room</td>\n",
       "      <td>Sergii</td>\n",
       "      <td>2019-06-22</td>\n",
       "    </tr>\n",
       "    <tr>\n",
       "      <th>25208</th>\n",
       "      <td>21304320</td>\n",
       "      <td>NaN</td>\n",
       "      <td>NaN</td>\n",
       "      <td>NaN</td>\n",
       "      <td>Best Coliving space ever! Shared room.</td>\n",
       "      <td>shared room</td>\n",
       "      <td>Sergii</td>\n",
       "      <td>2019-05-24</td>\n",
       "    </tr>\n",
       "  </tbody>\n",
       "</table>\n",
       "<p>25209 rows × 8 columns</p>\n",
       "</div>"
      ],
      "text/plain": [
       "       listing_id  price                nbhood_full  price_per_month  \\\n",
       "0            2595  225.0         Manhattan, Midtown      6843.750000   \n",
       "1            3831   89.0     Brooklyn, Clinton Hill      2707.083333   \n",
       "2            5099  200.0     Manhattan, Murray Hill      6083.333333   \n",
       "3            5178   79.0  Manhattan, Hell's Kitchen      2402.916667   \n",
       "4            5238  150.0       Manhattan, Chinatown      4562.500000   \n",
       "...           ...    ...                        ...              ...   \n",
       "25204    20639628    NaN                        NaN              NaN   \n",
       "25205    20639792    NaN                        NaN              NaN   \n",
       "25206    20639914    NaN                        NaN              NaN   \n",
       "25207    21291569    NaN                        NaN              NaN   \n",
       "25208    21304320    NaN                        NaN              NaN   \n",
       "\n",
       "                                             description        room_type  \\\n",
       "0                                  Skylit Midtown Castle  entire home/apt   \n",
       "1                        Cozy Entire Floor of Brownstone  entire home/apt   \n",
       "2              Large Cozy 1 BR Apartment In Midtown East  entire home/apt   \n",
       "3                        Large Furnished Room Near B'way     private room   \n",
       "4                     Cute & Cozy Lower East Side 1 bdrm  entire home/apt   \n",
       "...                                                  ...              ...   \n",
       "25204  Spacious comfortable master bedroom with nice ...     private room   \n",
       "25205  Contemporary bedroom in brownstone with nice view     private room   \n",
       "25206       Cozy yet spacious private brownstone bedroom     private room   \n",
       "25207  Coliving in Brooklyn! Modern design / Shared room      shared room   \n",
       "25208             Best Coliving space ever! Shared room.      shared room   \n",
       "\n",
       "         host_name last_review  \n",
       "0         Jennifer  2019-05-21  \n",
       "1      LisaRoxanne  2019-07-05  \n",
       "2            Chris  2019-06-22  \n",
       "3         Shunichi  2019-06-24  \n",
       "4              Ben  2019-06-09  \n",
       "...            ...         ...  \n",
       "25204      Adeyemi  2019-06-15  \n",
       "25205      Adeyemi  2019-06-21  \n",
       "25206      Adeyemi  2019-06-23  \n",
       "25207       Sergii  2019-06-22  \n",
       "25208       Sergii  2019-05-24  \n",
       "\n",
       "[25209 rows x 8 columns]"
      ]
     },
     "execution_count": 85,
     "metadata": {},
     "output_type": "execute_result"
    }
   ],
   "source": [
    "airbnb_merged"
   ]
  },
  {
   "cell_type": "code",
   "execution_count": 86,
   "id": "f8860218",
   "metadata": {},
   "outputs": [],
   "source": [
    "# Drop missing values from airbnb_merged\n",
    "\n",
    "airbnb_merged.dropna(inplace=True)"
   ]
  },
  {
   "cell_type": "code",
   "execution_count": 87,
   "id": "6b38a6cc",
   "metadata": {
    "scrolled": false
   },
   "outputs": [
    {
     "data": {
      "text/html": [
       "<div>\n",
       "<style scoped>\n",
       "    .dataframe tbody tr th:only-of-type {\n",
       "        vertical-align: middle;\n",
       "    }\n",
       "\n",
       "    .dataframe tbody tr th {\n",
       "        vertical-align: top;\n",
       "    }\n",
       "\n",
       "    .dataframe thead th {\n",
       "        text-align: right;\n",
       "    }\n",
       "</style>\n",
       "<table border=\"1\" class=\"dataframe\">\n",
       "  <thead>\n",
       "    <tr style=\"text-align: right;\">\n",
       "      <th></th>\n",
       "      <th>listing_id</th>\n",
       "      <th>price</th>\n",
       "      <th>nbhood_full</th>\n",
       "      <th>price_per_month</th>\n",
       "      <th>description</th>\n",
       "      <th>room_type</th>\n",
       "      <th>host_name</th>\n",
       "      <th>last_review</th>\n",
       "    </tr>\n",
       "  </thead>\n",
       "  <tbody>\n",
       "    <tr>\n",
       "      <th>0</th>\n",
       "      <td>2595</td>\n",
       "      <td>225.0</td>\n",
       "      <td>Manhattan, Midtown</td>\n",
       "      <td>6843.750000</td>\n",
       "      <td>Skylit Midtown Castle</td>\n",
       "      <td>entire home/apt</td>\n",
       "      <td>Jennifer</td>\n",
       "      <td>2019-05-21</td>\n",
       "    </tr>\n",
       "    <tr>\n",
       "      <th>1</th>\n",
       "      <td>3831</td>\n",
       "      <td>89.0</td>\n",
       "      <td>Brooklyn, Clinton Hill</td>\n",
       "      <td>2707.083333</td>\n",
       "      <td>Cozy Entire Floor of Brownstone</td>\n",
       "      <td>entire home/apt</td>\n",
       "      <td>LisaRoxanne</td>\n",
       "      <td>2019-07-05</td>\n",
       "    </tr>\n",
       "    <tr>\n",
       "      <th>2</th>\n",
       "      <td>5099</td>\n",
       "      <td>200.0</td>\n",
       "      <td>Manhattan, Murray Hill</td>\n",
       "      <td>6083.333333</td>\n",
       "      <td>Large Cozy 1 BR Apartment In Midtown East</td>\n",
       "      <td>entire home/apt</td>\n",
       "      <td>Chris</td>\n",
       "      <td>2019-06-22</td>\n",
       "    </tr>\n",
       "    <tr>\n",
       "      <th>3</th>\n",
       "      <td>5178</td>\n",
       "      <td>79.0</td>\n",
       "      <td>Manhattan, Hell's Kitchen</td>\n",
       "      <td>2402.916667</td>\n",
       "      <td>Large Furnished Room Near B'way</td>\n",
       "      <td>private room</td>\n",
       "      <td>Shunichi</td>\n",
       "      <td>2019-06-24</td>\n",
       "    </tr>\n",
       "    <tr>\n",
       "      <th>4</th>\n",
       "      <td>5238</td>\n",
       "      <td>150.0</td>\n",
       "      <td>Manhattan, Chinatown</td>\n",
       "      <td>4562.500000</td>\n",
       "      <td>Cute &amp; Cozy Lower East Side 1 bdrm</td>\n",
       "      <td>entire home/apt</td>\n",
       "      <td>Ben</td>\n",
       "      <td>2019-06-09</td>\n",
       "    </tr>\n",
       "    <tr>\n",
       "      <th>...</th>\n",
       "      <td>...</td>\n",
       "      <td>...</td>\n",
       "      <td>...</td>\n",
       "      <td>...</td>\n",
       "      <td>...</td>\n",
       "      <td>...</td>\n",
       "      <td>...</td>\n",
       "      <td>...</td>\n",
       "    </tr>\n",
       "    <tr>\n",
       "      <th>25197</th>\n",
       "      <td>36425863</td>\n",
       "      <td>129.0</td>\n",
       "      <td>Manhattan, Upper East Side</td>\n",
       "      <td>3923.750000</td>\n",
       "      <td>Lovely Privet Bedroom with Privet Restroom</td>\n",
       "      <td>private room</td>\n",
       "      <td>Rusaa</td>\n",
       "      <td>2019-07-07</td>\n",
       "    </tr>\n",
       "    <tr>\n",
       "      <th>25198</th>\n",
       "      <td>36427429</td>\n",
       "      <td>45.0</td>\n",
       "      <td>Queens, Flushing</td>\n",
       "      <td>1368.750000</td>\n",
       "      <td>No.2 with queen size bed</td>\n",
       "      <td>private room</td>\n",
       "      <td>H Ai</td>\n",
       "      <td>2019-07-07</td>\n",
       "    </tr>\n",
       "    <tr>\n",
       "      <th>25199</th>\n",
       "      <td>36438336</td>\n",
       "      <td>235.0</td>\n",
       "      <td>Staten Island, Great Kills</td>\n",
       "      <td>7147.916667</td>\n",
       "      <td>Seas The Moment</td>\n",
       "      <td>private room</td>\n",
       "      <td>Ben</td>\n",
       "      <td>2019-07-07</td>\n",
       "    </tr>\n",
       "    <tr>\n",
       "      <th>25200</th>\n",
       "      <td>36442252</td>\n",
       "      <td>100.0</td>\n",
       "      <td>Bronx, Mott Haven</td>\n",
       "      <td>3041.666667</td>\n",
       "      <td>1B-1B apartment near by Metro</td>\n",
       "      <td>entire home/apt</td>\n",
       "      <td>Blaine</td>\n",
       "      <td>2019-07-07</td>\n",
       "    </tr>\n",
       "    <tr>\n",
       "      <th>25201</th>\n",
       "      <td>36455809</td>\n",
       "      <td>30.0</td>\n",
       "      <td>Brooklyn, Bushwick</td>\n",
       "      <td>912.500000</td>\n",
       "      <td>Cozy Private Room in Bushwick, Brooklyn</td>\n",
       "      <td>private room</td>\n",
       "      <td>Christine</td>\n",
       "      <td>2019-07-08</td>\n",
       "    </tr>\n",
       "  </tbody>\n",
       "</table>\n",
       "<p>25184 rows × 8 columns</p>\n",
       "</div>"
      ],
      "text/plain": [
       "       listing_id  price                 nbhood_full  price_per_month  \\\n",
       "0            2595  225.0          Manhattan, Midtown      6843.750000   \n",
       "1            3831   89.0      Brooklyn, Clinton Hill      2707.083333   \n",
       "2            5099  200.0      Manhattan, Murray Hill      6083.333333   \n",
       "3            5178   79.0   Manhattan, Hell's Kitchen      2402.916667   \n",
       "4            5238  150.0        Manhattan, Chinatown      4562.500000   \n",
       "...           ...    ...                         ...              ...   \n",
       "25197    36425863  129.0  Manhattan, Upper East Side      3923.750000   \n",
       "25198    36427429   45.0            Queens, Flushing      1368.750000   \n",
       "25199    36438336  235.0  Staten Island, Great Kills      7147.916667   \n",
       "25200    36442252  100.0           Bronx, Mott Haven      3041.666667   \n",
       "25201    36455809   30.0          Brooklyn, Bushwick       912.500000   \n",
       "\n",
       "                                      description        room_type  \\\n",
       "0                           Skylit Midtown Castle  entire home/apt   \n",
       "1                 Cozy Entire Floor of Brownstone  entire home/apt   \n",
       "2       Large Cozy 1 BR Apartment In Midtown East  entire home/apt   \n",
       "3                 Large Furnished Room Near B'way     private room   \n",
       "4              Cute & Cozy Lower East Side 1 bdrm  entire home/apt   \n",
       "...                                           ...              ...   \n",
       "25197  Lovely Privet Bedroom with Privet Restroom     private room   \n",
       "25198                    No.2 with queen size bed     private room   \n",
       "25199                             Seas The Moment     private room   \n",
       "25200               1B-1B apartment near by Metro  entire home/apt   \n",
       "25201     Cozy Private Room in Bushwick, Brooklyn     private room   \n",
       "\n",
       "         host_name last_review  \n",
       "0         Jennifer  2019-05-21  \n",
       "1      LisaRoxanne  2019-07-05  \n",
       "2            Chris  2019-06-22  \n",
       "3         Shunichi  2019-06-24  \n",
       "4              Ben  2019-06-09  \n",
       "...            ...         ...  \n",
       "25197        Rusaa  2019-07-07  \n",
       "25198         H Ai  2019-07-07  \n",
       "25199          Ben  2019-07-07  \n",
       "25200       Blaine  2019-07-07  \n",
       "25201    Christine  2019-07-08  \n",
       "\n",
       "[25184 rows x 8 columns]"
      ]
     },
     "execution_count": 87,
     "metadata": {},
     "output_type": "execute_result"
    }
   ],
   "source": [
    "airbnb_merged"
   ]
  },
  {
   "cell_type": "code",
   "execution_count": 88,
   "id": "44caa8a1",
   "metadata": {},
   "outputs": [],
   "source": [
    "# check for duplicates.\n",
    "duplicates = airbnb_merged[airbnb_merged.duplicated(keep=False)]"
   ]
  },
  {
   "cell_type": "code",
   "execution_count": 89,
   "id": "f1fe5bf2",
   "metadata": {},
   "outputs": [
    {
     "name": "stdout",
     "output_type": "stream",
     "text": [
      "Empty DataFrame\n",
      "Columns: [listing_id, price, nbhood_full, price_per_month, description, room_type, host_name, last_review]\n",
      "Index: []\n"
     ]
    }
   ],
   "source": [
    "print(duplicates)\n"
   ]
  },
  {
   "cell_type": "code",
   "execution_count": null,
   "id": "aad95760",
   "metadata": {},
   "outputs": [],
   "source": []
  },
  {
   "cell_type": "code",
   "execution_count": 90,
   "id": "bdb42de6",
   "metadata": {},
   "outputs": [],
   "source": [
    "# Step 8. Analyzing listing prices by NYC borough"
   ]
  },
  {
   "cell_type": "code",
   "execution_count": 91,
   "id": "e0673f73",
   "metadata": {},
   "outputs": [],
   "source": [
    "# Extract information from the nbhood_full column and store as a new column, borough\n",
    "\n",
    "airbnb_merged[\"borough\"] = airbnb_merged[\"nbhood_full\"].str.partition(\",\")[0]"
   ]
  },
  {
   "cell_type": "code",
   "execution_count": 92,
   "id": "24b8489a",
   "metadata": {},
   "outputs": [
    {
     "name": "stdout",
     "output_type": "stream",
     "text": [
      "0            Manhattan\n",
      "1             Brooklyn\n",
      "2            Manhattan\n",
      "3            Manhattan\n",
      "4            Manhattan\n",
      "             ...      \n",
      "25197        Manhattan\n",
      "25198           Queens\n",
      "25199    Staten Island\n",
      "25200            Bronx\n",
      "25201         Brooklyn\n",
      "Name: borough, Length: 25184, dtype: object\n"
     ]
    }
   ],
   "source": [
    "print(airbnb_merged[\"borough\"])"
   ]
  },
  {
   "cell_type": "code",
   "execution_count": 93,
   "id": "a1eab229",
   "metadata": {},
   "outputs": [],
   "source": [
    "# Group by borough and calculate summary statistics\n",
    "\n",
    "boroughs = airbnb_merged.groupby(\"borough\")[\"price\"].agg([\"sum\", \"mean\", \"median\", \"count\"])"
   ]
  },
  {
   "cell_type": "code",
   "execution_count": 94,
   "id": "448807d5",
   "metadata": {},
   "outputs": [
    {
     "data": {
      "text/html": [
       "<div>\n",
       "<style scoped>\n",
       "    .dataframe tbody tr th:only-of-type {\n",
       "        vertical-align: middle;\n",
       "    }\n",
       "\n",
       "    .dataframe tbody tr th {\n",
       "        vertical-align: top;\n",
       "    }\n",
       "\n",
       "    .dataframe thead th {\n",
       "        text-align: right;\n",
       "    }\n",
       "</style>\n",
       "<table border=\"1\" class=\"dataframe\">\n",
       "  <thead>\n",
       "    <tr style=\"text-align: right;\">\n",
       "      <th></th>\n",
       "      <th>sum</th>\n",
       "      <th>mean</th>\n",
       "      <th>median</th>\n",
       "      <th>count</th>\n",
       "    </tr>\n",
       "    <tr>\n",
       "      <th>borough</th>\n",
       "      <th></th>\n",
       "      <th></th>\n",
       "      <th></th>\n",
       "      <th></th>\n",
       "    </tr>\n",
       "  </thead>\n",
       "  <tbody>\n",
       "    <tr>\n",
       "      <th>Bronx</th>\n",
       "      <td>55156.0</td>\n",
       "      <td>79.247126</td>\n",
       "      <td>65.0</td>\n",
       "      <td>696</td>\n",
       "    </tr>\n",
       "    <tr>\n",
       "      <th>Brooklyn</th>\n",
       "      <td>1275250.0</td>\n",
       "      <td>122.021816</td>\n",
       "      <td>95.0</td>\n",
       "      <td>10451</td>\n",
       "    </tr>\n",
       "    <tr>\n",
       "      <th>Manhattan</th>\n",
       "      <td>1898417.0</td>\n",
       "      <td>184.044304</td>\n",
       "      <td>149.0</td>\n",
       "      <td>10315</td>\n",
       "    </tr>\n",
       "    <tr>\n",
       "      <th>Queens</th>\n",
       "      <td>320715.0</td>\n",
       "      <td>92.826339</td>\n",
       "      <td>70.0</td>\n",
       "      <td>3455</td>\n",
       "    </tr>\n",
       "    <tr>\n",
       "      <th>Staten Island</th>\n",
       "      <td>22974.0</td>\n",
       "      <td>86.044944</td>\n",
       "      <td>71.0</td>\n",
       "      <td>267</td>\n",
       "    </tr>\n",
       "  </tbody>\n",
       "</table>\n",
       "</div>"
      ],
      "text/plain": [
       "                     sum        mean  median  count\n",
       "borough                                            \n",
       "Bronx            55156.0   79.247126    65.0    696\n",
       "Brooklyn       1275250.0  122.021816    95.0  10451\n",
       "Manhattan      1898417.0  184.044304   149.0  10315\n",
       "Queens          320715.0   92.826339    70.0   3455\n",
       "Staten Island    22974.0   86.044944    71.0    267"
      ]
     },
     "execution_count": 94,
     "metadata": {},
     "output_type": "execute_result"
    }
   ],
   "source": [
    "boroughs"
   ]
  },
  {
   "cell_type": "code",
   "execution_count": 95,
   "id": "5346dc45",
   "metadata": {},
   "outputs": [],
   "source": [
    "# Round boroughs to 2 decimal places, and sort by mean in descending order\n",
    "\n",
    "boroughs = boroughs.round(2).sort_values(\"mean\", ascending=False)"
   ]
  },
  {
   "cell_type": "code",
   "execution_count": 96,
   "id": "79d9cf3d",
   "metadata": {
    "scrolled": true
   },
   "outputs": [
    {
     "data": {
      "text/html": [
       "<div>\n",
       "<style scoped>\n",
       "    .dataframe tbody tr th:only-of-type {\n",
       "        vertical-align: middle;\n",
       "    }\n",
       "\n",
       "    .dataframe tbody tr th {\n",
       "        vertical-align: top;\n",
       "    }\n",
       "\n",
       "    .dataframe thead th {\n",
       "        text-align: right;\n",
       "    }\n",
       "</style>\n",
       "<table border=\"1\" class=\"dataframe\">\n",
       "  <thead>\n",
       "    <tr style=\"text-align: right;\">\n",
       "      <th></th>\n",
       "      <th>sum</th>\n",
       "      <th>mean</th>\n",
       "      <th>median</th>\n",
       "      <th>count</th>\n",
       "    </tr>\n",
       "    <tr>\n",
       "      <th>borough</th>\n",
       "      <th></th>\n",
       "      <th></th>\n",
       "      <th></th>\n",
       "      <th></th>\n",
       "    </tr>\n",
       "  </thead>\n",
       "  <tbody>\n",
       "    <tr>\n",
       "      <th>Manhattan</th>\n",
       "      <td>1898417.0</td>\n",
       "      <td>184.04</td>\n",
       "      <td>149.0</td>\n",
       "      <td>10315</td>\n",
       "    </tr>\n",
       "    <tr>\n",
       "      <th>Brooklyn</th>\n",
       "      <td>1275250.0</td>\n",
       "      <td>122.02</td>\n",
       "      <td>95.0</td>\n",
       "      <td>10451</td>\n",
       "    </tr>\n",
       "    <tr>\n",
       "      <th>Queens</th>\n",
       "      <td>320715.0</td>\n",
       "      <td>92.83</td>\n",
       "      <td>70.0</td>\n",
       "      <td>3455</td>\n",
       "    </tr>\n",
       "    <tr>\n",
       "      <th>Staten Island</th>\n",
       "      <td>22974.0</td>\n",
       "      <td>86.04</td>\n",
       "      <td>71.0</td>\n",
       "      <td>267</td>\n",
       "    </tr>\n",
       "    <tr>\n",
       "      <th>Bronx</th>\n",
       "      <td>55156.0</td>\n",
       "      <td>79.25</td>\n",
       "      <td>65.0</td>\n",
       "      <td>696</td>\n",
       "    </tr>\n",
       "  </tbody>\n",
       "</table>\n",
       "</div>"
      ],
      "text/plain": [
       "                     sum    mean  median  count\n",
       "borough                                        \n",
       "Manhattan      1898417.0  184.04   149.0  10315\n",
       "Brooklyn       1275250.0  122.02    95.0  10451\n",
       "Queens          320715.0   92.83    70.0   3455\n",
       "Staten Island    22974.0   86.04    71.0    267\n",
       "Bronx            55156.0   79.25    65.0    696"
      ]
     },
     "execution_count": 96,
     "metadata": {},
     "output_type": "execute_result"
    }
   ],
   "source": [
    "boroughs"
   ]
  },
  {
   "cell_type": "code",
   "execution_count": 97,
   "id": "e2a29e8b",
   "metadata": {},
   "outputs": [],
   "source": [
    "# Plot a graph of descriptive statistics for each borough"
   ]
  },
  {
   "cell_type": "code",
   "execution_count": 98,
   "id": "b5490513",
   "metadata": {},
   "outputs": [
    {
     "data": {
      "image/png": "[encoded data removed]",
      "text/plain": [
       "<Figure size 864x720 with 4 Axes>"
      ]
     },
     "metadata": {
      "needs_background": "light"
     },
     "output_type": "display_data"
    }
   ],
   "source": [
    "import matplotlib.pyplot as plt\n",
    "import seaborn as sns\n",
    "\n",
    "# Merge prices and room_types on listing_id\n",
    "rooms_and_prices = prices.merge(room_types, how=\"outer\", on=\"listing_id\")\n",
    "\n",
    "# Merge rooms_and_prices and reviews on listing_id\n",
    "airbnb_merged = rooms_and_prices.merge(reviews, how=\"outer\", on=\"listing_id\")\n",
    "\n",
    "# Drop rows with missing values\n",
    "airbnb_merged.dropna(inplace=True)\n",
    "\n",
    "# Create the \"borough\" column\n",
    "airbnb_merged[\"borough\"] = airbnb_merged[\"nbhood_full\"].str.partition(\",\")[0]\n",
    "\n",
    "# Group by borough and calculate summary statistics\n",
    "boroughs = airbnb_merged.groupby(\"borough\")[\"price\"].agg([\"sum\", \"mean\", \"median\", \"count\"])\n",
    "\n",
    "# Round boroughs to 2 decimal places, and sort by mean in descending order\n",
    "boroughs = boroughs.round(2).sort_values(\"mean\", ascending=False)\n",
    "\n",
    "# Create a larger plot area\n",
    "plt.figure(figsize=(12, 10))\n",
    "\n",
    "# Plot the mean price\n",
    "plt.subplot(2, 2, 1)\n",
    "sns.barplot(data=boroughs, x=boroughs.index, y=\"mean\", palette=\"colorblind\")\n",
    "plt.title(\"Mean Price by Borough\")\n",
    "plt.xlabel(\"Borough\")\n",
    "plt.ylabel(\"Price\")\n",
    "plt.xticks(rotation=45)\n",
    "\n",
    "# Add value labels to the bars\n",
    "for i, mean_price in enumerate(boroughs[\"mean\"]):\n",
    "    plt.text(i, mean_price, f\"${mean_price:.2f}\", ha=\"center\", va=\"bottom\")\n",
    "\n",
    "# Plot the median price\n",
    "plt.subplot(2, 2, 2)\n",
    "sns.barplot(data=boroughs, x=boroughs.index, y=\"median\", palette=\"colorblind\")\n",
    "plt.title(\"Median Price by Borough\")\n",
    "plt.xlabel(\"Borough\")\n",
    "plt.ylabel(\"Price\")\n",
    "plt.xticks(rotation=45)\n",
    "\n",
    "# Add value labels to the bars\n",
    "for i, median_price in enumerate(boroughs[\"median\"]):\n",
    "    plt.text(i, median_price, f\"${median_price:.2f}\", ha=\"center\", va=\"bottom\")\n",
    "\n",
    "# Plot the total listings count\n",
    "plt.subplot(2, 2, 3)\n",
    "sns.barplot(data=boroughs, x=boroughs.index, y=\"count\", palette=\"colorblind\")\n",
    "plt.title(\"Listings Count by Borough\")\n",
    "plt.xlabel(\"Borough\")\n",
    "plt.ylabel(\"Count\")\n",
    "plt.xticks(rotation=45)\n",
    "\n",
    "# Add value labels to the bars\n",
    "for i, count in enumerate(boroughs[\"count\"]):\n",
    "    plt.text(i, count, str(count), ha=\"center\", va=\"bottom\")\n",
    "\n",
    "# Plot the total price\n",
    "plt.subplot(2, 2, 4)\n",
    "sns.barplot(data=boroughs, x=boroughs.index, y=\"sum\", palette=\"colorblind\")\n",
    "plt.title(\"Total Price by Borough\")\n",
    "plt.xlabel(\"Borough\")\n",
    "plt.ylabel(\"Total Price\")\n",
    "plt.xticks(rotation=45)\n",
    "\n",
    "# Add value labels to the bars\n",
    "for i, total_price in enumerate(boroughs[\"sum\"]):\n",
    "    plt.text(i, total_price, f\"${total_price:.2f}\", ha=\"center\", va=\"bottom\")\n",
    "\n",
    "# Adjust spacing between subplots\n",
    "plt.tight_layout()\n",
    "\n",
    "# Display the plots\n",
    "plt.show()\n"
   ]
  },
  {
   "cell_type": "code",
   "execution_count": null,
   "id": "f9e1478c",
   "metadata": {},
   "outputs": [],
   "source": []
  },
  {
   "cell_type": "code",
   "execution_count": 99,
   "id": "74af393b",
   "metadata": {},
   "outputs": [],
   "source": [
    "# Step 9. Price range by borough"
   ]
  },
  {
   "cell_type": "code",
   "execution_count": 100,
   "id": "dd10887c",
   "metadata": {},
   "outputs": [],
   "source": [
    "# Create labels for the price range, label_names\n",
    "\n",
    "label_names = [\"Budget\", \"Average\", \"Expensive\", \"Extravagant\"]"
   ]
  },
  {
   "cell_type": "code",
   "execution_count": 101,
   "id": "d2abb36b",
   "metadata": {},
   "outputs": [
    {
     "data": {
      "text/plain": [
       "['Budget', 'Average', 'Expensive', 'Extravagant']"
      ]
     },
     "execution_count": 101,
     "metadata": {},
     "output_type": "execute_result"
    }
   ],
   "source": [
    "label_names"
   ]
  },
  {
   "cell_type": "code",
   "execution_count": 102,
   "id": "e9023e63",
   "metadata": {},
   "outputs": [],
   "source": [
    "# Create the label ranges, ranges\n",
    "\n",
    "ranges = [0, 69, 175, 350, np.inf]"
   ]
  },
  {
   "cell_type": "code",
   "execution_count": 103,
   "id": "98b6aadd",
   "metadata": {},
   "outputs": [
    {
     "data": {
      "text/plain": [
       "[0, 69, 175, 350, inf]"
      ]
     },
     "execution_count": 103,
     "metadata": {},
     "output_type": "execute_result"
    }
   ],
   "source": [
    "ranges"
   ]
  },
  {
   "cell_type": "code",
   "execution_count": 104,
   "id": "9b81f361",
   "metadata": {},
   "outputs": [],
   "source": [
    "# Insert new column, price_range, into DataFrame\n",
    "\n",
    "airbnb_merged[\"price_range\"] = pd.cut(airbnb_merged[\"price\"], bins=ranges, labels=label_names)"
   ]
  },
  {
   "cell_type": "code",
   "execution_count": 105,
   "id": "f492a6bb",
   "metadata": {},
   "outputs": [
    {
     "data": {
      "text/html": [
       "<div>\n",
       "<style scoped>\n",
       "    .dataframe tbody tr th:only-of-type {\n",
       "        vertical-align: middle;\n",
       "    }\n",
       "\n",
       "    .dataframe tbody tr th {\n",
       "        vertical-align: top;\n",
       "    }\n",
       "\n",
       "    .dataframe thead th {\n",
       "        text-align: right;\n",
       "    }\n",
       "</style>\n",
       "<table border=\"1\" class=\"dataframe\">\n",
       "  <thead>\n",
       "    <tr style=\"text-align: right;\">\n",
       "      <th></th>\n",
       "      <th>listing_id</th>\n",
       "      <th>price</th>\n",
       "      <th>nbhood_full</th>\n",
       "      <th>price_per_month</th>\n",
       "      <th>description</th>\n",
       "      <th>room_type</th>\n",
       "      <th>host_name</th>\n",
       "      <th>last_review</th>\n",
       "      <th>borough</th>\n",
       "      <th>price_range</th>\n",
       "    </tr>\n",
       "  </thead>\n",
       "  <tbody>\n",
       "    <tr>\n",
       "      <th>0</th>\n",
       "      <td>2595</td>\n",
       "      <td>225.0</td>\n",
       "      <td>Manhattan, Midtown</td>\n",
       "      <td>6843.750000</td>\n",
       "      <td>Skylit Midtown Castle</td>\n",
       "      <td>entire home/apt</td>\n",
       "      <td>Jennifer</td>\n",
       "      <td>2019-05-21</td>\n",
       "      <td>Manhattan</td>\n",
       "      <td>Expensive</td>\n",
       "    </tr>\n",
       "    <tr>\n",
       "      <th>1</th>\n",
       "      <td>3831</td>\n",
       "      <td>89.0</td>\n",
       "      <td>Brooklyn, Clinton Hill</td>\n",
       "      <td>2707.083333</td>\n",
       "      <td>Cozy Entire Floor of Brownstone</td>\n",
       "      <td>entire home/apt</td>\n",
       "      <td>LisaRoxanne</td>\n",
       "      <td>2019-07-05</td>\n",
       "      <td>Brooklyn</td>\n",
       "      <td>Average</td>\n",
       "    </tr>\n",
       "    <tr>\n",
       "      <th>2</th>\n",
       "      <td>5099</td>\n",
       "      <td>200.0</td>\n",
       "      <td>Manhattan, Murray Hill</td>\n",
       "      <td>6083.333333</td>\n",
       "      <td>Large Cozy 1 BR Apartment In Midtown East</td>\n",
       "      <td>entire home/apt</td>\n",
       "      <td>Chris</td>\n",
       "      <td>2019-06-22</td>\n",
       "      <td>Manhattan</td>\n",
       "      <td>Expensive</td>\n",
       "    </tr>\n",
       "    <tr>\n",
       "      <th>3</th>\n",
       "      <td>5178</td>\n",
       "      <td>79.0</td>\n",
       "      <td>Manhattan, Hell's Kitchen</td>\n",
       "      <td>2402.916667</td>\n",
       "      <td>Large Furnished Room Near B'way</td>\n",
       "      <td>private room</td>\n",
       "      <td>Shunichi</td>\n",
       "      <td>2019-06-24</td>\n",
       "      <td>Manhattan</td>\n",
       "      <td>Average</td>\n",
       "    </tr>\n",
       "    <tr>\n",
       "      <th>4</th>\n",
       "      <td>5238</td>\n",
       "      <td>150.0</td>\n",
       "      <td>Manhattan, Chinatown</td>\n",
       "      <td>4562.500000</td>\n",
       "      <td>Cute &amp; Cozy Lower East Side 1 bdrm</td>\n",
       "      <td>entire home/apt</td>\n",
       "      <td>Ben</td>\n",
       "      <td>2019-06-09</td>\n",
       "      <td>Manhattan</td>\n",
       "      <td>Average</td>\n",
       "    </tr>\n",
       "    <tr>\n",
       "      <th>...</th>\n",
       "      <td>...</td>\n",
       "      <td>...</td>\n",
       "      <td>...</td>\n",
       "      <td>...</td>\n",
       "      <td>...</td>\n",
       "      <td>...</td>\n",
       "      <td>...</td>\n",
       "      <td>...</td>\n",
       "      <td>...</td>\n",
       "      <td>...</td>\n",
       "    </tr>\n",
       "    <tr>\n",
       "      <th>25197</th>\n",
       "      <td>36425863</td>\n",
       "      <td>129.0</td>\n",
       "      <td>Manhattan, Upper East Side</td>\n",
       "      <td>3923.750000</td>\n",
       "      <td>Lovely Privet Bedroom with Privet Restroom</td>\n",
       "      <td>private room</td>\n",
       "      <td>Rusaa</td>\n",
       "      <td>2019-07-07</td>\n",
       "      <td>Manhattan</td>\n",
       "      <td>Average</td>\n",
       "    </tr>\n",
       "    <tr>\n",
       "      <th>25198</th>\n",
       "      <td>36427429</td>\n",
       "      <td>45.0</td>\n",
       "      <td>Queens, Flushing</td>\n",
       "      <td>1368.750000</td>\n",
       "      <td>No.2 with queen size bed</td>\n",
       "      <td>private room</td>\n",
       "      <td>H Ai</td>\n",
       "      <td>2019-07-07</td>\n",
       "      <td>Queens</td>\n",
       "      <td>Budget</td>\n",
       "    </tr>\n",
       "    <tr>\n",
       "      <th>25199</th>\n",
       "      <td>36438336</td>\n",
       "      <td>235.0</td>\n",
       "      <td>Staten Island, Great Kills</td>\n",
       "      <td>7147.916667</td>\n",
       "      <td>Seas The Moment</td>\n",
       "      <td>private room</td>\n",
       "      <td>Ben</td>\n",
       "      <td>2019-07-07</td>\n",
       "      <td>Staten Island</td>\n",
       "      <td>Expensive</td>\n",
       "    </tr>\n",
       "    <tr>\n",
       "      <th>25200</th>\n",
       "      <td>36442252</td>\n",
       "      <td>100.0</td>\n",
       "      <td>Bronx, Mott Haven</td>\n",
       "      <td>3041.666667</td>\n",
       "      <td>1B-1B apartment near by Metro</td>\n",
       "      <td>entire home/apt</td>\n",
       "      <td>Blaine</td>\n",
       "      <td>2019-07-07</td>\n",
       "      <td>Bronx</td>\n",
       "      <td>Average</td>\n",
       "    </tr>\n",
       "    <tr>\n",
       "      <th>25201</th>\n",
       "      <td>36455809</td>\n",
       "      <td>30.0</td>\n",
       "      <td>Brooklyn, Bushwick</td>\n",
       "      <td>912.500000</td>\n",
       "      <td>Cozy Private Room in Bushwick, Brooklyn</td>\n",
       "      <td>private room</td>\n",
       "      <td>Christine</td>\n",
       "      <td>2019-07-08</td>\n",
       "      <td>Brooklyn</td>\n",
       "      <td>Budget</td>\n",
       "    </tr>\n",
       "  </tbody>\n",
       "</table>\n",
       "<p>25184 rows × 10 columns</p>\n",
       "</div>"
      ],
      "text/plain": [
       "       listing_id  price                 nbhood_full  price_per_month  \\\n",
       "0            2595  225.0          Manhattan, Midtown      6843.750000   \n",
       "1            3831   89.0      Brooklyn, Clinton Hill      2707.083333   \n",
       "2            5099  200.0      Manhattan, Murray Hill      6083.333333   \n",
       "3            5178   79.0   Manhattan, Hell's Kitchen      2402.916667   \n",
       "4            5238  150.0        Manhattan, Chinatown      4562.500000   \n",
       "...           ...    ...                         ...              ...   \n",
       "25197    36425863  129.0  Manhattan, Upper East Side      3923.750000   \n",
       "25198    36427429   45.0            Queens, Flushing      1368.750000   \n",
       "25199    36438336  235.0  Staten Island, Great Kills      7147.916667   \n",
       "25200    36442252  100.0           Bronx, Mott Haven      3041.666667   \n",
       "25201    36455809   30.0          Brooklyn, Bushwick       912.500000   \n",
       "\n",
       "                                      description        room_type  \\\n",
       "0                           Skylit Midtown Castle  entire home/apt   \n",
       "1                 Cozy Entire Floor of Brownstone  entire home/apt   \n",
       "2       Large Cozy 1 BR Apartment In Midtown East  entire home/apt   \n",
       "3                 Large Furnished Room Near B'way     private room   \n",
       "4              Cute & Cozy Lower East Side 1 bdrm  entire home/apt   \n",
       "...                                           ...              ...   \n",
       "25197  Lovely Privet Bedroom with Privet Restroom     private room   \n",
       "25198                    No.2 with queen size bed     private room   \n",
       "25199                             Seas The Moment     private room   \n",
       "25200               1B-1B apartment near by Metro  entire home/apt   \n",
       "25201     Cozy Private Room in Bushwick, Brooklyn     private room   \n",
       "\n",
       "         host_name last_review        borough price_range  \n",
       "0         Jennifer  2019-05-21      Manhattan   Expensive  \n",
       "1      LisaRoxanne  2019-07-05       Brooklyn     Average  \n",
       "2            Chris  2019-06-22      Manhattan   Expensive  \n",
       "3         Shunichi  2019-06-24      Manhattan     Average  \n",
       "4              Ben  2019-06-09      Manhattan     Average  \n",
       "...            ...         ...            ...         ...  \n",
       "25197        Rusaa  2019-07-07      Manhattan     Average  \n",
       "25198         H Ai  2019-07-07         Queens      Budget  \n",
       "25199          Ben  2019-07-07  Staten Island   Expensive  \n",
       "25200       Blaine  2019-07-07          Bronx     Average  \n",
       "25201    Christine  2019-07-08       Brooklyn      Budget  \n",
       "\n",
       "[25184 rows x 10 columns]"
      ]
     },
     "execution_count": 105,
     "metadata": {},
     "output_type": "execute_result"
    }
   ],
   "source": [
    "airbnb_merged"
   ]
  },
  {
   "cell_type": "code",
   "execution_count": 106,
   "id": "838766d5",
   "metadata": {},
   "outputs": [],
   "source": [
    "# Calculate occurence frequencies for each label, prices_by_borough\n",
    "\n",
    "prices_by_borough = airbnb_merged.groupby([\"borough\", \"price_range\"])[\"price_range\"].count()"
   ]
  },
  {
   "cell_type": "code",
   "execution_count": 107,
   "id": "7d099e17",
   "metadata": {},
   "outputs": [
    {
     "data": {
      "text/plain": [
       "borough        price_range\n",
       "Bronx          Budget          381\n",
       "               Average         285\n",
       "               Expensive        25\n",
       "               Extravagant       5\n",
       "Brooklyn       Budget         3194\n",
       "               Average        5532\n",
       "               Expensive      1466\n",
       "               Extravagant     259\n",
       "Manhattan      Budget         1148\n",
       "               Average        5285\n",
       "               Expensive      3072\n",
       "               Extravagant     810\n",
       "Queens         Budget         1631\n",
       "               Average        1505\n",
       "               Expensive       291\n",
       "               Extravagant      28\n",
       "Staten Island  Budget          124\n",
       "               Average         123\n",
       "               Expensive        20\n",
       "               Extravagant       0\n",
       "Name: price_range, dtype: int64"
      ]
     },
     "execution_count": 107,
     "metadata": {},
     "output_type": "execute_result"
    }
   ],
   "source": [
    "prices_by_borough"
   ]
  },
  {
   "cell_type": "code",
   "execution_count": 108,
   "id": "aac76ea3",
   "metadata": {},
   "outputs": [],
   "source": [
    "# Plot a graph of prices_by_borough"
   ]
  },
  {
   "cell_type": "code",
   "execution_count": 109,
   "id": "f7474631",
   "metadata": {},
   "outputs": [
    {
     "data": {
      "image/png": "[encoded data removed]",
      "text/plain": [
       "<Figure size 864x576 with 1 Axes>"
      ]
     },
     "metadata": {
      "needs_background": "light"
     },
     "output_type": "display_data"
    }
   ],
   "source": [
    "import matplotlib.pyplot as plt\n",
    "import seaborn as sns\n",
    "\n",
    "# Plot the graph\n",
    "plt.figure(figsize=(12, 8))\n",
    "ax = sns.countplot(data=airbnb_merged, x=\"borough\", hue=\"price_range\", palette=\"colorblind\")\n",
    "\n",
    "# Add value labels to each bar\n",
    "for p in ax.patches:\n",
    "    height = p.get_height()\n",
    "    ax.annotate(f'{height}', (p.get_x() + p.get_width() / 2, height), ha='center', va='bottom',fontweight='bold',color = 'blue')\n",
    "\n",
    "plt.title(\"Price Range Distribution by Borough\")\n",
    "plt.xlabel(\"Borough\")\n",
    "plt.ylabel(\"Frequency\")\n",
    "plt.legend(title=\"Price Range\")\n",
    "plt.tight_layout()\n",
    "plt.show()\n",
    "\n"
   ]
  },
  {
   "cell_type": "code",
   "execution_count": null,
   "id": "0b4d4585",
   "metadata": {},
   "outputs": [],
   "source": []
  },
  {
   "cell_type": "code",
   "execution_count": 110,
   "id": "3b5974a8",
   "metadata": {},
   "outputs": [],
   "source": [
    "# Step 10. Storing the final result"
   ]
  },
  {
   "cell_type": "code",
   "execution_count": 111,
   "id": "9e867ea6",
   "metadata": {},
   "outputs": [
    {
     "name": "stdout",
     "output_type": "stream",
     "text": [
      "{'avg_price': 141.82, 'average_price_per_month': 4313.61, 'difference': 1213.61, 'room_frequencies': entire home/apt    13266\n",
      "private room       11356\n",
      "shared room          587\n",
      "Name: room_type, dtype: int64, 'first_reviewed': datetime.date(2019, 1, 1), 'last_reviewed': datetime.date(2019, 7, 9), 'prices_by_borough': borough        price_range\n",
      "Bronx          Budget          381\n",
      "               Average         285\n",
      "               Expensive        25\n",
      "               Extravagant       5\n",
      "Brooklyn       Budget         3194\n",
      "               Average        5532\n",
      "               Expensive      1466\n",
      "               Extravagant     259\n",
      "Manhattan      Budget         1148\n",
      "               Average        5285\n",
      "               Expensive      3072\n",
      "               Extravagant     810\n",
      "Queens         Budget         1631\n",
      "               Average        1505\n",
      "               Expensive       291\n",
      "               Extravagant      28\n",
      "Staten Island  Budget          124\n",
      "               Average         123\n",
      "               Expensive        20\n",
      "               Extravagant       0\n",
      "Name: price_range, dtype: int64}\n"
     ]
    }
   ],
   "source": [
    "solution = {'avg_price':avg_price,\n",
    "            'average_price_per_month': average_price_per_month,  \n",
    "            'difference':difference,          \n",
    "            'room_frequencies':room_frequencies, \n",
    "            'first_reviewed': first_reviewed,\n",
    "            'last_reviewed': last_reviewed,\n",
    "            'prices_by_borough':prices_by_borough}\n",
    "print(solution)"
   ]
  },
  {
   "cell_type": "code",
   "execution_count": null,
   "id": "053f702a",
   "metadata": {},
   "outputs": [],
   "source": []
  },
  {
   "cell_type": "code",
   "execution_count": 112,
   "id": "b1012a40",
   "metadata": {},
   "outputs": [
    {
     "data": {
      "image/png": "[encoded data removed]",
      "text/plain": [
       "<Figure size 576x504 with 1 Axes>"
      ]
     },
     "metadata": {
      "needs_background": "light"
     },
     "output_type": "display_data"
    },
    {
     "data": {
      "image/png": "[encoded data removed]",
      "text/plain": [
       "<Figure size 576x504 with 1 Axes>"
      ]
     },
     "metadata": {
      "needs_background": "light"
     },
     "output_type": "display_data"
    },
    {
     "data": {
      "image/png": "[encoded data removed]",
      "text/plain": [
       "<Figure size 576x504 with 1 Axes>"
      ]
     },
     "metadata": {
      "needs_background": "light"
     },
     "output_type": "display_data"
    },
    {
     "data": {
      "image/png": "[encoded data removed]",
      "text/plain": [
       "<Figure size 576x504 with 1 Axes>"
      ]
     },
     "metadata": {
      "needs_background": "light"
     },
     "output_type": "display_data"
    },
    {
     "data": {
      "image/png": "[encoded data removed]",
      "text/plain": [
       "<Figure size 576x504 with 1 Axes>"
      ]
     },
     "metadata": {
      "needs_background": "light"
     },
     "output_type": "display_data"
    }
   ],
   "source": [
    "import pandas as pd\n",
    "import matplotlib.pyplot as plt\n",
    "import seaborn as sns\n",
    "\n",
    "# Convert solution keys and values to lists\n",
    "solution_keys = list(solution.keys())\n",
    "solution_values = list(solution.values())\n",
    "\n",
    "# Convert values to appropriate data types\n",
    "solution_values = [float(value) if isinstance(value, (int, float)) else value for value in solution_values]\n",
    "\n",
    "# Iterate over the solutions and plot them individually\n",
    "for key, value in zip(solution_keys, solution_values):\n",
    "    # Exclude 'first_reviewed' and 'last_reviewed' from plotting\n",
    "    if key in ['first_reviewed', 'last_reviewed']:\n",
    "        continue\n",
    "    \n",
    "    # Create a new figure and axes for each solution\n",
    "    fig, ax = plt.subplots(figsize=(8, 7))\n",
    "    \n",
    "    # Plot the solution\n",
    "    if isinstance(value, (int, float)):\n",
    "        sns.barplot(x=[key], y=[value], palette=\"colorblind\")\n",
    "        ax.text(0, value, str(value), ha='center', va='bottom', fontsize=10,fontweight='bold',color='red')\n",
    "    else:\n",
    "        # Flatten the value array\n",
    "        flat_values = value.values.flatten()\n",
    "        # Create corresponding index array\n",
    "        index_values = [f\"{index[0]}_{index[1]}\" for index in value.index]\n",
    "        sns.barplot(x=index_values, y=flat_values, palette=\"colorblind\")\n",
    "        for i, v in enumerate(flat_values):\n",
    "            ax.text(i, v, str(v), ha='center', va='bottom', fontsize=10,fontweight='bold',color='green')\n",
    "    \n",
    "    # Set the axis labels and title\n",
    "    plt.xlabel(\"Solution\")\n",
    "    plt.ylabel(\"Value\")\n",
    "    plt.title(key)\n",
    "    \n",
    "    # Rotate x-axis labels if there are too many\n",
    "    if not isinstance(value, (int, float)) and len(value) > 10:\n",
    "        plt.xticks(rotation=90)\n",
    "    \n",
    "    # Show the plot\n",
    "    plt.tight_layout()\n",
    "    plt.show()\n"
   ]
  },
  {
   "cell_type": "code",
   "execution_count": null,
   "id": "63e2566a",
   "metadata": {},
   "outputs": [],
   "source": []
  },
  {
   "cell_type": "code",
   "execution_count": 113,
   "id": "8990b6db",
   "metadata": {},
   "outputs": [],
   "source": [
    "# Export the DataFrame to a CSV file\n",
    "\n",
    "airbnb_merged.to_csv('cleaned_and_merged_data.csv', index=False)"
   ]
  },
  {
   "cell_type": "code",
   "execution_count": 114,
   "id": "30dddac4",
   "metadata": {},
   "outputs": [
    {
     "data": {
      "text/plain": [
       "251840"
      ]
     },
     "execution_count": 114,
     "metadata": {},
     "output_type": "execute_result"
    }
   ],
   "source": [
    "airbnb_merged.size"
   ]
  },
  {
   "cell_type": "code",
   "execution_count": null,
   "id": "0676c91b",
   "metadata": {},
   "outputs": [],
   "source": []
  },
  {
   "cell_type": "code",
   "execution_count": 115,
   "id": "0841ae2e",
   "metadata": {},
   "outputs": [],
   "source": [
    "# Plot a graph to see prices per room_types"
   ]
  },
  {
   "cell_type": "code",
   "execution_count": 116,
   "id": "3a0f27cf",
   "metadata": {},
   "outputs": [
    {
     "name": "stdout",
     "output_type": "stream",
     "text": [
      "Columns in room_types DataFrame: Index(['listing_id', 'description', 'room_type'], dtype='object')\n",
      "Columns in prices DataFrame: Index(['listing_id', 'price', 'nbhood_full', 'price_per_month'], dtype='object')\n"
     ]
    }
   ],
   "source": [
    "print(\"Columns in room_types DataFrame:\", room_types.columns)\n",
    "print(\"Columns in prices DataFrame:\", prices.columns)\n"
   ]
  },
  {
   "cell_type": "code",
   "execution_count": 117,
   "id": "367ef50e",
   "metadata": {},
   "outputs": [],
   "source": [
    "merged_data = pd.merge(room_types, prices, on='listing_id')\n"
   ]
  },
  {
   "cell_type": "code",
   "execution_count": 128,
   "id": "d1e06186",
   "metadata": {},
   "outputs": [
    {
     "data": {
      "image/png": "[encoded data removed]",
      "text/plain": [
       "<Figure size 864x576 with 1 Axes>"
      ]
     },
     "metadata": {
      "needs_background": "light"
     },
     "output_type": "display_data"
    }
   ],
   "source": [
    "import pandas as pd\n",
    "import matplotlib.pyplot as plt\n",
    "import seaborn as sns\n",
    "\n",
    "# Merge the two DataFrames based on the common column 'listing_id'\n",
    "merged_data = pd.merge(room_types, prices, on='listing_id')\n",
    "\n",
    "# Set color palette for color-blind friendly colors\n",
    "colors = sns.color_palette('colorblind')\n",
    "\n",
    "# Increase plot area\n",
    "plt.figure(figsize=(12, 8))\n",
    "\n",
    "# Plot the violin plot\n",
    "ax = sns.violinplot(x=merged_data[\"room_type\"], y=merged_data[\"price\"], palette=colors)\n",
    "\n",
    "# Add values to each box\n",
    "means = merged_data.groupby(\"room_type\")[\"price\"].mean()\n",
    "vertical_offset = merged_data[\"price\"].mean() * 0.01\n",
    "for xtick in ax.get_xticks():\n",
    "    rounded_mean = round(means[xtick], 2)  # Round the mean to 1 decimal point\n",
    "    ax.text(xtick, means[xtick] + vertical_offset, rounded_mean,\n",
    "            horizontalalignment='center', verticalalignment='top', color='magenta', fontweight='bold', size=20)\n",
    "\n",
    "# Add individual values using stripplot\n",
    "ax = sns.stripplot(x=merged_data[\"room_type\"], y=merged_data[\"price\"], color=\"grey\", size=2)\n",
    "\n",
    "# Customize plot\n",
    "plt.title('Prices by Room Type')\n",
    "plt.xlabel('Room Type')\n",
    "plt.ylabel('Price')\n",
    "plt.xticks(rotation=45)\n",
    "\n",
    "plt.show()\n"
   ]
  },
  {
   "cell_type": "code",
   "execution_count": null,
   "id": "26070649",
   "metadata": {},
   "outputs": [],
   "source": []
  }
 ],
 "metadata": {
  "kernelspec": {
   "display_name": "Python 3",
   "language": "python",
   "name": "python3"
  },
  "language_info": {
   "codemirror_mode": {
    "name": "ipython",
    "version": 3
   },
   "file_extension": ".py",
   "mimetype": "text/x-python",
   "name": "python",
   "nbconvert_exporter": "python",
   "pygments_lexer": "ipython3",
   "version": "3.8.8"
  },
  "toc": {
   "base_numbering": 1,
   "nav_menu": {},
   "number_sections": true,
   "sideBar": true,
   "skip_h1_title": false,
   "title_cell": "Table of Contents",
   "title_sidebar": "Contents",
   "toc_cell": false,
   "toc_position": {},
   "toc_section_display": true,
   "toc_window_display": false
  }
 },
 "nbformat": 4,
 "nbformat_minor": 5
}
